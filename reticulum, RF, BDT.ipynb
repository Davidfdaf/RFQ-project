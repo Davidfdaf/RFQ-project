{
 "cells": [
  {
   "cell_type": "markdown",
   "metadata": {},
   "source": [
    "## Usual imports"
   ]
  },
  {
   "cell_type": "code",
   "execution_count": 1,
   "metadata": {},
   "outputs": [],
   "source": [
    "import pandas as pd\n",
    "import numpy as np\n",
    "import sys, math, os, json, re, random\n",
    "import scipy.stats as stats\n",
    "import matplotlib.pyplot as plt\n",
    "import seaborn as sns\n",
    "import datetime as dt\n",
    "from sklearn.metrics import accuracy_score\n",
    "from sklearn.metrics import log_loss\n",
    "from sklearn.ensemble import RandomForestClassifier\n",
    "from sklearn.model_selection import GridSearchCV\n",
    "\n",
    "from reticulum import AdaptiveBayesianReticulum\n",
    "from bayesian_decision_tree.classification import PerpendicularClassificationTree\n",
    "\n",
    "# jupyter magic to display plots directly in the notebook\n",
    "%matplotlib inline\n",
    "\n",
    "# use vector graphics format for nicer plots\n",
    "%config Inline.Backend.figure_format = 'svg'\n",
    "\n",
    "%config Completer.use_jedi = False\n",
    "\n",
    "%load_ext autoreload\n",
    "%autoreload 2"
   ]
  },
  {
   "cell_type": "code",
   "execution_count": 2,
   "metadata": {
    "tags": []
   },
   "outputs": [],
   "source": [
    "DATA = 'data/RfqData.xlsx'"
   ]
  },
  {
   "cell_type": "code",
   "execution_count": 3,
   "metadata": {},
   "outputs": [
    {
     "data": {
      "text/plain": [
       "['Training RFQs', 'OOS RFQs', 'Competition RFQs']"
      ]
     },
     "execution_count": 3,
     "metadata": {},
     "output_type": "execute_result"
    }
   ],
   "source": [
    "sheets = pd.ExcelFile(DATA).sheet_names\n",
    "sheets"
   ]
  },
  {
   "cell_type": "code",
   "execution_count": 4,
   "metadata": {},
   "outputs": [],
   "source": [
    "training = pd.read_excel(DATA, sheet_name=sheets[0])\n",
    "test = pd.read_excel(DATA, sheet_name=sheets[1])\n",
    "competition = pd.read_excel(DATA, sheet_name=sheets[2])"
   ]
  },
  {
   "cell_type": "code",
   "execution_count": 5,
   "metadata": {},
   "outputs": [
    {
     "data": {
      "text/html": [
       "<div>\n",
       "<style scoped>\n",
       "    .dataframe tbody tr th:only-of-type {\n",
       "        vertical-align: middle;\n",
       "    }\n",
       "\n",
       "    .dataframe tbody tr th {\n",
       "        vertical-align: top;\n",
       "    }\n",
       "\n",
       "    .dataframe thead th {\n",
       "        text-align: right;\n",
       "    }\n",
       "</style>\n",
       "<table border=\"1\" class=\"dataframe\">\n",
       "  <thead>\n",
       "    <tr style=\"text-align: right;\">\n",
       "      <th></th>\n",
       "      <th>Time</th>\n",
       "      <th>Bond</th>\n",
       "      <th>Side</th>\n",
       "      <th>Notional</th>\n",
       "      <th>Counterparty</th>\n",
       "      <th>MidPrice</th>\n",
       "      <th>QuotedPrice</th>\n",
       "      <th>Competitors</th>\n",
       "      <th>Traded</th>\n",
       "      <th>NextMidPrice</th>\n",
       "    </tr>\n",
       "  </thead>\n",
       "  <tbody>\n",
       "    <tr>\n",
       "      <th>0</th>\n",
       "      <td>25000</td>\n",
       "      <td>Bond_2</td>\n",
       "      <td>Offer</td>\n",
       "      <td>10000000</td>\n",
       "      <td>Ctpy_0</td>\n",
       "      <td>124.01</td>\n",
       "      <td>124.25</td>\n",
       "      <td>1</td>\n",
       "      <td>MISSED</td>\n",
       "      <td>124.24</td>\n",
       "    </tr>\n",
       "    <tr>\n",
       "      <th>1</th>\n",
       "      <td>25001</td>\n",
       "      <td>Bond_0</td>\n",
       "      <td>Bid</td>\n",
       "      <td>1000</td>\n",
       "      <td>Ctpy_1</td>\n",
       "      <td>98.07</td>\n",
       "      <td>98.06</td>\n",
       "      <td>1</td>\n",
       "      <td>DONE</td>\n",
       "      <td>98.08</td>\n",
       "    </tr>\n",
       "    <tr>\n",
       "      <th>2</th>\n",
       "      <td>25002</td>\n",
       "      <td>Bond_1</td>\n",
       "      <td>Offer</td>\n",
       "      <td>1000</td>\n",
       "      <td>Ctpy_1</td>\n",
       "      <td>170.30</td>\n",
       "      <td>170.40</td>\n",
       "      <td>1</td>\n",
       "      <td>MISSED</td>\n",
       "      <td>170.64</td>\n",
       "    </tr>\n",
       "    <tr>\n",
       "      <th>3</th>\n",
       "      <td>25003</td>\n",
       "      <td>Bond_0</td>\n",
       "      <td>Bid</td>\n",
       "      <td>20000</td>\n",
       "      <td>Ctpy_0</td>\n",
       "      <td>98.00</td>\n",
       "      <td>97.98</td>\n",
       "      <td>4</td>\n",
       "      <td>DONE</td>\n",
       "      <td>97.94</td>\n",
       "    </tr>\n",
       "    <tr>\n",
       "      <th>4</th>\n",
       "      <td>25004</td>\n",
       "      <td>Bond_1</td>\n",
       "      <td>Offer</td>\n",
       "      <td>1000</td>\n",
       "      <td>Ctpy_3</td>\n",
       "      <td>171.12</td>\n",
       "      <td>171.16</td>\n",
       "      <td>2</td>\n",
       "      <td>DONE</td>\n",
       "      <td>171.46</td>\n",
       "    </tr>\n",
       "  </tbody>\n",
       "</table>\n",
       "</div>"
      ],
      "text/plain": [
       "    Time    Bond   Side  Notional Counterparty  MidPrice  QuotedPrice  \\\n",
       "0  25000  Bond_2  Offer  10000000       Ctpy_0    124.01       124.25   \n",
       "1  25001  Bond_0    Bid      1000       Ctpy_1     98.07        98.06   \n",
       "2  25002  Bond_1  Offer      1000       Ctpy_1    170.30       170.40   \n",
       "3  25003  Bond_0    Bid     20000       Ctpy_0     98.00        97.98   \n",
       "4  25004  Bond_1  Offer      1000       Ctpy_3    171.12       171.16   \n",
       "\n",
       "   Competitors  Traded  NextMidPrice  \n",
       "0            1  MISSED        124.24  \n",
       "1            1    DONE         98.08  \n",
       "2            1  MISSED        170.64  \n",
       "3            4    DONE         97.94  \n",
       "4            2    DONE        171.46  "
      ]
     },
     "execution_count": 5,
     "metadata": {},
     "output_type": "execute_result"
    }
   ],
   "source": [
    "training.head()"
   ]
  },
  {
   "cell_type": "code",
   "execution_count": 6,
   "metadata": {},
   "outputs": [
    {
     "data": {
      "text/html": [
       "<div>\n",
       "<style scoped>\n",
       "    .dataframe tbody tr th:only-of-type {\n",
       "        vertical-align: middle;\n",
       "    }\n",
       "\n",
       "    .dataframe tbody tr th {\n",
       "        vertical-align: top;\n",
       "    }\n",
       "\n",
       "    .dataframe thead th {\n",
       "        text-align: right;\n",
       "    }\n",
       "</style>\n",
       "<table border=\"1\" class=\"dataframe\">\n",
       "  <thead>\n",
       "    <tr style=\"text-align: right;\">\n",
       "      <th></th>\n",
       "      <th>Time</th>\n",
       "      <th>Bond</th>\n",
       "      <th>Side</th>\n",
       "      <th>Notional</th>\n",
       "      <th>Counterparty</th>\n",
       "      <th>MidPrice</th>\n",
       "      <th>QuotedPrice</th>\n",
       "      <th>Competitors</th>\n",
       "    </tr>\n",
       "  </thead>\n",
       "  <tbody>\n",
       "    <tr>\n",
       "      <th>0</th>\n",
       "      <td>31000</td>\n",
       "      <td>Bond_0</td>\n",
       "      <td>Bid</td>\n",
       "      <td>1000</td>\n",
       "      <td>Ctpy_0</td>\n",
       "      <td>82.55</td>\n",
       "      <td>NaN</td>\n",
       "      <td>3</td>\n",
       "    </tr>\n",
       "    <tr>\n",
       "      <th>1</th>\n",
       "      <td>31001</td>\n",
       "      <td>Bond_2</td>\n",
       "      <td>Bid</td>\n",
       "      <td>1000</td>\n",
       "      <td>Ctpy_3</td>\n",
       "      <td>110.32</td>\n",
       "      <td>NaN</td>\n",
       "      <td>4</td>\n",
       "    </tr>\n",
       "    <tr>\n",
       "      <th>2</th>\n",
       "      <td>31004</td>\n",
       "      <td>Bond_1</td>\n",
       "      <td>Offer</td>\n",
       "      <td>300000</td>\n",
       "      <td>Ctpy_0</td>\n",
       "      <td>126.83</td>\n",
       "      <td>NaN</td>\n",
       "      <td>2</td>\n",
       "    </tr>\n",
       "    <tr>\n",
       "      <th>3</th>\n",
       "      <td>31008</td>\n",
       "      <td>Bond_0</td>\n",
       "      <td>Bid</td>\n",
       "      <td>1000</td>\n",
       "      <td>Ctpy_1</td>\n",
       "      <td>82.28</td>\n",
       "      <td>NaN</td>\n",
       "      <td>1</td>\n",
       "    </tr>\n",
       "    <tr>\n",
       "      <th>4</th>\n",
       "      <td>31009</td>\n",
       "      <td>Bond_2</td>\n",
       "      <td>Offer</td>\n",
       "      <td>1000</td>\n",
       "      <td>Ctpy_1</td>\n",
       "      <td>109.99</td>\n",
       "      <td>NaN</td>\n",
       "      <td>2</td>\n",
       "    </tr>\n",
       "  </tbody>\n",
       "</table>\n",
       "</div>"
      ],
      "text/plain": [
       "    Time    Bond   Side  Notional Counterparty  MidPrice  QuotedPrice  \\\n",
       "0  31000  Bond_0    Bid      1000       Ctpy_0     82.55          NaN   \n",
       "1  31001  Bond_2    Bid      1000       Ctpy_3    110.32          NaN   \n",
       "2  31004  Bond_1  Offer    300000       Ctpy_0    126.83          NaN   \n",
       "3  31008  Bond_0    Bid      1000       Ctpy_1     82.28          NaN   \n",
       "4  31009  Bond_2  Offer      1000       Ctpy_1    109.99          NaN   \n",
       "\n",
       "   Competitors  \n",
       "0            3  \n",
       "1            4  \n",
       "2            2  \n",
       "3            1  \n",
       "4            2  "
      ]
     },
     "execution_count": 6,
     "metadata": {},
     "output_type": "execute_result"
    }
   ],
   "source": [
    "competition"
   ]
  },
  {
   "cell_type": "code",
   "execution_count": 7,
   "metadata": {},
   "outputs": [],
   "source": [
    "target_mapping = {'MISSED': 0, 'DONE': 1}"
   ]
  },
  {
   "cell_type": "code",
   "execution_count": 8,
   "metadata": {},
   "outputs": [],
   "source": [
    "def add_features(df):\n",
    "    df['quote_diff'] = df['QuotedPrice']/df['MidPrice']\n",
    "    df['Traded'] = df['Traded'].map(target_mapping)\n",
    "    # df['Competitors'] = df['Competitors'].apply(lambda x: str(x))\n",
    "    df['Notional_cuts'] = pd.cut(df['Notional'], [0, 100000, 1000000, 10000000, 50000000], labels=[0, 1, 2, 3], include_lowest=True, right=True)\n",
    "    \n",
    "    cols = ['Side']\n",
    "    one_hot_encode = pd.get_dummies(df[cols])\n",
    "    df = df.join(one_hot_encode)\n",
    "    \n",
    "    cols_to_drop = ['Bond', 'Side', 'Counterparty', 'Time'] + ['Notional', 'QuotedPrice', 'MidPrice', 'NextMidPrice']\n",
    "    \n",
    "    return df.drop(columns=cols_to_drop)"
   ]
  },
  {
   "cell_type": "code",
   "execution_count": 9,
   "metadata": {},
   "outputs": [
    {
     "data": {
      "text/plain": [
       "5000"
      ]
     },
     "execution_count": 9,
     "metadata": {},
     "output_type": "execute_result"
    }
   ],
   "source": [
    "len(training.Notional)"
   ]
  },
  {
   "cell_type": "code",
   "execution_count": 10,
   "metadata": {},
   "outputs": [
    {
     "data": {
      "text/html": [
       "<div>\n",
       "<style scoped>\n",
       "    .dataframe tbody tr th:only-of-type {\n",
       "        vertical-align: middle;\n",
       "    }\n",
       "\n",
       "    .dataframe tbody tr th {\n",
       "        vertical-align: top;\n",
       "    }\n",
       "\n",
       "    .dataframe thead th {\n",
       "        text-align: right;\n",
       "    }\n",
       "</style>\n",
       "<table border=\"1\" class=\"dataframe\">\n",
       "  <thead>\n",
       "    <tr style=\"text-align: right;\">\n",
       "      <th></th>\n",
       "      <th>Competitors</th>\n",
       "      <th>Traded</th>\n",
       "      <th>quote_diff</th>\n",
       "      <th>Notional_cuts</th>\n",
       "      <th>Side_Bid</th>\n",
       "      <th>Side_Offer</th>\n",
       "    </tr>\n",
       "  </thead>\n",
       "  <tbody>\n",
       "    <tr>\n",
       "      <th>0</th>\n",
       "      <td>1</td>\n",
       "      <td>0</td>\n",
       "      <td>1.001935</td>\n",
       "      <td>2</td>\n",
       "      <td>0</td>\n",
       "      <td>1</td>\n",
       "    </tr>\n",
       "    <tr>\n",
       "      <th>1</th>\n",
       "      <td>1</td>\n",
       "      <td>1</td>\n",
       "      <td>0.999898</td>\n",
       "      <td>0</td>\n",
       "      <td>1</td>\n",
       "      <td>0</td>\n",
       "    </tr>\n",
       "    <tr>\n",
       "      <th>2</th>\n",
       "      <td>1</td>\n",
       "      <td>0</td>\n",
       "      <td>1.000587</td>\n",
       "      <td>0</td>\n",
       "      <td>0</td>\n",
       "      <td>1</td>\n",
       "    </tr>\n",
       "    <tr>\n",
       "      <th>3</th>\n",
       "      <td>4</td>\n",
       "      <td>1</td>\n",
       "      <td>0.999796</td>\n",
       "      <td>0</td>\n",
       "      <td>1</td>\n",
       "      <td>0</td>\n",
       "    </tr>\n",
       "    <tr>\n",
       "      <th>4</th>\n",
       "      <td>2</td>\n",
       "      <td>1</td>\n",
       "      <td>1.000234</td>\n",
       "      <td>0</td>\n",
       "      <td>0</td>\n",
       "      <td>1</td>\n",
       "    </tr>\n",
       "  </tbody>\n",
       "</table>\n",
       "</div>"
      ],
      "text/plain": [
       "   Competitors  Traded  quote_diff Notional_cuts  Side_Bid  Side_Offer\n",
       "0            1       0    1.001935             2         0           1\n",
       "1            1       1    0.999898             0         1           0\n",
       "2            1       0    1.000587             0         0           1\n",
       "3            4       1    0.999796             0         1           0\n",
       "4            2       1    1.000234             0         0           1"
      ]
     },
     "execution_count": 10,
     "metadata": {},
     "output_type": "execute_result"
    }
   ],
   "source": [
    "training = add_features(training)\n",
    "training.head()"
   ]
  },
  {
   "cell_type": "code",
   "execution_count": 11,
   "metadata": {},
   "outputs": [
    {
     "data": {
      "text/html": [
       "<div>\n",
       "<style scoped>\n",
       "    .dataframe tbody tr th:only-of-type {\n",
       "        vertical-align: middle;\n",
       "    }\n",
       "\n",
       "    .dataframe tbody tr th {\n",
       "        vertical-align: top;\n",
       "    }\n",
       "\n",
       "    .dataframe thead th {\n",
       "        text-align: right;\n",
       "    }\n",
       "</style>\n",
       "<table border=\"1\" class=\"dataframe\">\n",
       "  <thead>\n",
       "    <tr style=\"text-align: right;\">\n",
       "      <th></th>\n",
       "      <th>Competitors</th>\n",
       "      <th>Traded</th>\n",
       "      <th>quote_diff</th>\n",
       "      <th>Notional_cuts</th>\n",
       "      <th>Side_Bid</th>\n",
       "      <th>Side_Offer</th>\n",
       "    </tr>\n",
       "  </thead>\n",
       "  <tbody>\n",
       "    <tr>\n",
       "      <th>0</th>\n",
       "      <td>2</td>\n",
       "      <td>0</td>\n",
       "      <td>0.997135</td>\n",
       "      <td>1</td>\n",
       "      <td>1</td>\n",
       "      <td>0</td>\n",
       "    </tr>\n",
       "    <tr>\n",
       "      <th>1</th>\n",
       "      <td>3</td>\n",
       "      <td>1</td>\n",
       "      <td>0.999646</td>\n",
       "      <td>0</td>\n",
       "      <td>1</td>\n",
       "      <td>0</td>\n",
       "    </tr>\n",
       "    <tr>\n",
       "      <th>2</th>\n",
       "      <td>4</td>\n",
       "      <td>1</td>\n",
       "      <td>0.999882</td>\n",
       "      <td>0</td>\n",
       "      <td>1</td>\n",
       "      <td>0</td>\n",
       "    </tr>\n",
       "    <tr>\n",
       "      <th>3</th>\n",
       "      <td>1</td>\n",
       "      <td>1</td>\n",
       "      <td>0.999540</td>\n",
       "      <td>0</td>\n",
       "      <td>1</td>\n",
       "      <td>0</td>\n",
       "    </tr>\n",
       "    <tr>\n",
       "      <th>4</th>\n",
       "      <td>2</td>\n",
       "      <td>1</td>\n",
       "      <td>1.000473</td>\n",
       "      <td>2</td>\n",
       "      <td>0</td>\n",
       "      <td>1</td>\n",
       "    </tr>\n",
       "  </tbody>\n",
       "</table>\n",
       "</div>"
      ],
      "text/plain": [
       "   Competitors  Traded  quote_diff Notional_cuts  Side_Bid  Side_Offer\n",
       "0            2       0    0.997135             1         1           0\n",
       "1            3       1    0.999646             0         1           0\n",
       "2            4       1    0.999882             0         1           0\n",
       "3            1       1    0.999540             0         1           0\n",
       "4            2       1    1.000473             2         0           1"
      ]
     },
     "execution_count": 11,
     "metadata": {},
     "output_type": "execute_result"
    }
   ],
   "source": [
    "test = add_features(test)\n",
    "\n",
    "test.head()"
   ]
  },
  {
   "cell_type": "code",
   "execution_count": 12,
   "metadata": {},
   "outputs": [],
   "source": [
    "# extract input and target\n",
    "X_train = training.drop(columns=['Traded']).values\n",
    "y_train = training[['Traded']].values.ravel()\n",
    "X_test = test.drop(columns=['Traded']).values\n",
    "y_test = test[['Traded']].values.ravel()"
   ]
  },
  {
   "cell_type": "code",
   "execution_count": 13,
   "metadata": {},
   "outputs": [
    {
     "name": "stdout",
     "output_type": "stream",
     "text": [
      "Depth:  9\n",
      "Leaves: 32\n",
      "Train: Log-loss = 0.43370114208076804, accuracy = 82.2200 %\n",
      "Test: Log-loss = 0.436363246830452, accuracy = 84.3000 %\n",
      "Feature importance: [9.38157889e-04 9.95874454e-01 4.86256573e-04 1.40823736e-03\n",
      " 1.29289459e-03]\n"
     ]
    }
   ],
   "source": [
    "# train model\n",
    "model = AdaptiveBayesianReticulum(\n",
    "    prior=(1, 1),\n",
    "    pruning_factor=1,\n",
    "    n_iter=50,\n",
    "    learning_rate_init=0.1,\n",
    "    n_gradient_descent_steps=1,\n",
    "    initial_relative_stiffness=20)\n",
    "\n",
    "t0 = dt.datetime.utcnow()\n",
    "model.fit(X_train, y_train, verbose=False)\n",
    "t1 = dt.datetime.utcnow()\n",
    "\n",
    "#print('Model:')\n",
    "#print(model)\n",
    "#print(f'Training took {t1-t0}')\n",
    "\n",
    "# evaluate performance\n",
    "log_loss_train = log_loss(y_train, model.predict_proba(X_train))\n",
    "log_loss_test = log_loss(y_test, model.predict_proba(X_test))\n",
    "accuracy_train = accuracy_score(y_train, model.predict(X_train))\n",
    "accuracy_test = accuracy_score(y_test, model.predict(X_test))\n",
    "\n",
    "info_train = f'Train: Log-loss = {log_loss_train}, accuracy = {100*accuracy_train:.4f} %'\n",
    "info_test = f'Test: Log-loss = {log_loss_test}, accuracy = {100*accuracy_test:.4f} %'\n",
    "print(f'Depth:  {model.get_depth()}')\n",
    "print(f'Leaves: {model.get_n_leaves()}')\n",
    "print(info_train)\n",
    "print(info_test)\n",
    "print(f'Feature importance: {model.feature_importance()}')"
   ]
  },
  {
   "cell_type": "code",
   "execution_count": 14,
   "metadata": {},
   "outputs": [
    {
     "name": "stdout",
     "output_type": "stream",
     "text": [
      "Train: Log-loss = 0.3164384220459702, accuracy = 86.5000 %\n",
      "Test: Log-loss = 0.35552422135743994, accuracy = 84.6000 %\n",
      "Feature importance: [9.38157889e-04 9.95874454e-01 4.86256573e-04 1.40823736e-03\n",
      " 1.29289459e-03]\n"
     ]
    }
   ],
   "source": [
    "#compare to RF\n",
    "RFmodel = RandomForestClassifier(min_samples_split=100)\n",
    "RFmodel.fit(X_train, y_train)\n",
    "\n",
    "# evaluate performance\n",
    "log_loss_train = log_loss(y_train, RFmodel.predict_proba(X_train))\n",
    "log_loss_test = log_loss(y_test, RFmodel.predict_proba(X_test))\n",
    "accuracy_train = accuracy_score(y_train, RFmodel.predict(X_train))\n",
    "accuracy_test = accuracy_score(y_test, RFmodel.predict(X_test))\n",
    "\n",
    "info_train = f'Train: Log-loss = {log_loss_train}, accuracy = {100*accuracy_train:.4f} %'\n",
    "info_test = f'Test: Log-loss = {log_loss_test}, accuracy = {100*accuracy_test:.4f} %'\n",
    "print(info_train)\n",
    "print(info_test)\n",
    "print(f'Feature importance: {model.feature_importance()}')"
   ]
  },
  {
   "cell_type": "code",
   "execution_count": 26,
   "metadata": {},
   "outputs": [
    {
     "name": "stdout",
     "output_type": "stream",
     "text": [
      "Train: Log-loss = 0.36896868616629147, accuracy = 85.7400 %\n",
      "Test: Log-loss = 0.3815841207280913, accuracy = 85.0000 %\n",
      "Feature importance: [9.38157889e-04 9.95874454e-01 4.86256573e-04 1.40823736e-03\n",
      " 1.29289459e-03]\n"
     ]
    }
   ],
   "source": [
    "PerpBayesTreemodel = PerpendicularClassificationTree(\n",
    "        partition_prior=0.9,\n",
    "        prior=(1, 1),\n",
    "        delta=0,\n",
    "        prune=True)\n",
    "PerpBayesTreemodel.fit(X_train, y_train, verbose=False)\n",
    "\n",
    "# evaluate performance\n",
    "log_loss_train = log_loss(y_train, PerpBayesTreemodel.predict_proba(X_train))\n",
    "log_loss_test = log_loss(y_test, PerpBayesTreemodel.predict_proba(X_test))\n",
    "accuracy_train = accuracy_score(y_train, PerpBayesTreemodel.predict(X_train))\n",
    "accuracy_test = accuracy_score(y_test, PerpBayesTreemodel.predict(X_test))\n",
    "\n",
    "info_train = f'Train: Log-loss = {log_loss_train}, accuracy = {100*accuracy_train:.4f} %'\n",
    "info_test = f'Test: Log-loss = {log_loss_test}, accuracy = {100*accuracy_test:.4f} %'\n",
    "print(info_train)\n",
    "print(info_test)\n",
    "print(f'Feature importance: {model.feature_importance()}')"
   ]
  },
  {
   "cell_type": "markdown",
   "metadata": {},
   "source": [
    "## Estimate the probability of execution a trade for a given price (and any other feature available in the data). examine correllation between predictions"
   ]
  },
  {
   "cell_type": "code",
   "execution_count": 33,
   "metadata": {},
   "outputs": [],
   "source": [
    "trade_execution_prob_reticulum = pd.Series(model.predict_proba(X_test)[:, 1]).rename('Retic')\n",
    "trade_execution_prob_rf = pd.Series(RFmodel.predict_proba(X_test)[:, 1]).rename('RF')\n",
    "trade_execution_prob_BDT = pd.Series(PerpBayesTreemodel.predict_proba(X_test)[:, 1]).rename('BDT')"
   ]
  },
  {
   "cell_type": "code",
   "execution_count": 34,
   "metadata": {},
   "outputs": [
    {
     "data": {
      "text/html": [
       "<div>\n",
       "<style scoped>\n",
       "    .dataframe tbody tr th:only-of-type {\n",
       "        vertical-align: middle;\n",
       "    }\n",
       "\n",
       "    .dataframe tbody tr th {\n",
       "        vertical-align: top;\n",
       "    }\n",
       "\n",
       "    .dataframe thead th {\n",
       "        text-align: right;\n",
       "    }\n",
       "</style>\n",
       "<table border=\"1\" class=\"dataframe\">\n",
       "  <thead>\n",
       "    <tr style=\"text-align: right;\">\n",
       "      <th></th>\n",
       "      <th>RF</th>\n",
       "      <th>Retic</th>\n",
       "      <th>BDT</th>\n",
       "    </tr>\n",
       "  </thead>\n",
       "  <tbody>\n",
       "    <tr>\n",
       "      <th>RF</th>\n",
       "      <td>1.000000</td>\n",
       "      <td>0.879930</td>\n",
       "      <td>0.950736</td>\n",
       "    </tr>\n",
       "    <tr>\n",
       "      <th>Retic</th>\n",
       "      <td>0.879930</td>\n",
       "      <td>1.000000</td>\n",
       "      <td>0.874037</td>\n",
       "    </tr>\n",
       "    <tr>\n",
       "      <th>BDT</th>\n",
       "      <td>0.950736</td>\n",
       "      <td>0.874037</td>\n",
       "      <td>1.000000</td>\n",
       "    </tr>\n",
       "  </tbody>\n",
       "</table>\n",
       "</div>"
      ],
      "text/plain": [
       "             RF     Retic       BDT\n",
       "RF     1.000000  0.879930  0.950736\n",
       "Retic  0.879930  1.000000  0.874037\n",
       "BDT    0.950736  0.874037  1.000000"
      ]
     },
     "execution_count": 34,
     "metadata": {},
     "output_type": "execute_result"
    }
   ],
   "source": [
    "pd.DataFrame([trade_execution_prob_rf,trade_execution_prob_reticulum,trade_execution_prob_BDT]).T.corr()"
   ]
  },
  {
   "cell_type": "code",
   "execution_count": null,
   "metadata": {},
   "outputs": [],
   "source": []
  }
 ],
 "metadata": {
  "kernelspec": {
   "display_name": "tfenv",
   "language": "python",
   "name": "tfenv"
  },
  "language_info": {
   "codemirror_mode": {
    "name": "ipython",
    "version": 3
   },
   "file_extension": ".py",
   "mimetype": "text/x-python",
   "name": "python",
   "nbconvert_exporter": "python",
   "pygments_lexer": "ipython3",
   "version": "3.8.10"
  }
 },
 "nbformat": 4,
 "nbformat_minor": 4
}
