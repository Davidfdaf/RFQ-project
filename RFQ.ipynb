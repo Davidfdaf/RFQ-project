{
 "cells": [
  {
   "cell_type": "code",
   "execution_count": 1,
   "id": "924a2d92-dba8-44b1-9472-f414efbd045d",
   "metadata": {},
   "outputs": [],
   "source": [
    "import pandas as pd\n",
    "import numpy as np\n",
    "import matplotlib.pyplot as plt\n",
    "import seaborn as sns\n",
    "from sklearn.preprocessing import StandardScaler\n",
    "from sklearn.naive_bayes import GaussianNB\n",
    "from sklearn.metrics import confusion_matrix, accuracy_score, classification_report,log_loss\n",
    "from mlxtend.plotting import plot_decision_regions\n",
    "import sys, math, os, json, re, random\n",
    "import scipy.stats as stats\n",
    "import seaborn as sns\n",
    "import datetime as dt\n",
    "\n",
    "from reticulum import AdaptiveBayesianReticulum\n",
    "from functions import *\n",
    "\n",
    "# jupyter magic to display plots directly in the notebook\n",
    "%matplotlib inline\n",
    "\n",
    "# use vector graphics format for nicer plots\n",
    "%config Inline.Backend.figure_format = 'svg'\n",
    "\n",
    "%config Completer.use_jedi = False\n",
    "\n",
    "%load_ext autoreload\n",
    "%autoreload 2"
   ]
  },
  {
   "cell_type": "code",
   "execution_count": 48,
   "id": "4daab316-d64f-4a05-9b14-a0601bc20cfa",
   "metadata": {},
   "outputs": [],
   "source": [
    "training = pd.read_excel('data/RfqData.xlsx',sheet_name = 'Training RFQs')\n",
    "oos = pd.read_excel('data/RfqData.xlsx',sheet_name = 'OOS RFQs')\n",
    "competition = pd.read_excel('data/RfqData.xlsx',sheet_name = 'Competition RFQs')"
   ]
  },
  {
   "cell_type": "code",
   "execution_count": 3,
   "id": "1a67affa-bf36-4ade-b4fb-2f29b0da4e29",
   "metadata": {},
   "outputs": [
    {
     "data": {
      "text/html": [
       "<div>\n",
       "<style scoped>\n",
       "    .dataframe tbody tr th:only-of-type {\n",
       "        vertical-align: middle;\n",
       "    }\n",
       "\n",
       "    .dataframe tbody tr th {\n",
       "        vertical-align: top;\n",
       "    }\n",
       "\n",
       "    .dataframe thead th {\n",
       "        text-align: right;\n",
       "    }\n",
       "</style>\n",
       "<table border=\"1\" class=\"dataframe\">\n",
       "  <thead>\n",
       "    <tr style=\"text-align: right;\">\n",
       "      <th></th>\n",
       "      <th>Time</th>\n",
       "      <th>Bond</th>\n",
       "      <th>Side</th>\n",
       "      <th>Notional</th>\n",
       "      <th>Counterparty</th>\n",
       "      <th>MidPrice</th>\n",
       "      <th>QuotedPrice</th>\n",
       "      <th>Competitors</th>\n",
       "    </tr>\n",
       "  </thead>\n",
       "  <tbody>\n",
       "    <tr>\n",
       "      <th>0</th>\n",
       "      <td>31000</td>\n",
       "      <td>Bond_0</td>\n",
       "      <td>Bid</td>\n",
       "      <td>1000</td>\n",
       "      <td>Ctpy_0</td>\n",
       "      <td>82.55</td>\n",
       "      <td>NaN</td>\n",
       "      <td>3</td>\n",
       "    </tr>\n",
       "    <tr>\n",
       "      <th>1</th>\n",
       "      <td>31001</td>\n",
       "      <td>Bond_2</td>\n",
       "      <td>Bid</td>\n",
       "      <td>1000</td>\n",
       "      <td>Ctpy_3</td>\n",
       "      <td>110.32</td>\n",
       "      <td>NaN</td>\n",
       "      <td>4</td>\n",
       "    </tr>\n",
       "    <tr>\n",
       "      <th>2</th>\n",
       "      <td>31004</td>\n",
       "      <td>Bond_1</td>\n",
       "      <td>Offer</td>\n",
       "      <td>300000</td>\n",
       "      <td>Ctpy_0</td>\n",
       "      <td>126.83</td>\n",
       "      <td>NaN</td>\n",
       "      <td>2</td>\n",
       "    </tr>\n",
       "    <tr>\n",
       "      <th>3</th>\n",
       "      <td>31008</td>\n",
       "      <td>Bond_0</td>\n",
       "      <td>Bid</td>\n",
       "      <td>1000</td>\n",
       "      <td>Ctpy_1</td>\n",
       "      <td>82.28</td>\n",
       "      <td>NaN</td>\n",
       "      <td>1</td>\n",
       "    </tr>\n",
       "    <tr>\n",
       "      <th>4</th>\n",
       "      <td>31009</td>\n",
       "      <td>Bond_2</td>\n",
       "      <td>Offer</td>\n",
       "      <td>1000</td>\n",
       "      <td>Ctpy_1</td>\n",
       "      <td>109.99</td>\n",
       "      <td>NaN</td>\n",
       "      <td>2</td>\n",
       "    </tr>\n",
       "  </tbody>\n",
       "</table>\n",
       "</div>"
      ],
      "text/plain": [
       "    Time    Bond   Side  Notional Counterparty  MidPrice  QuotedPrice  \\\n",
       "0  31000  Bond_0    Bid      1000       Ctpy_0     82.55          NaN   \n",
       "1  31001  Bond_2    Bid      1000       Ctpy_3    110.32          NaN   \n",
       "2  31004  Bond_1  Offer    300000       Ctpy_0    126.83          NaN   \n",
       "3  31008  Bond_0    Bid      1000       Ctpy_1     82.28          NaN   \n",
       "4  31009  Bond_2  Offer      1000       Ctpy_1    109.99          NaN   \n",
       "\n",
       "   Competitors  \n",
       "0            3  \n",
       "1            4  \n",
       "2            2  \n",
       "3            1  \n",
       "4            2  "
      ]
     },
     "execution_count": 3,
     "metadata": {},
     "output_type": "execute_result"
    }
   ],
   "source": [
    "competition"
   ]
  },
  {
   "cell_type": "code",
   "execution_count": 4,
   "id": "ba69cad4-b900-4bc5-885f-d60ad2770a53",
   "metadata": {},
   "outputs": [],
   "source": [
    "target_mapping = {'MISSED': 0, 'DONE': 1}\n",
    "side_mapping = {'Offer': -1, 'Bid': 1}"
   ]
  },
  {
   "cell_type": "code",
   "execution_count": 49,
   "id": "fc57822b-b2c6-47e0-8693-b024c06ca6b5",
   "metadata": {},
   "outputs": [],
   "source": [
    "def add_features(df):\n",
    "    df['delta_from_mid'] = df['QuotedPrice']/df['MidPrice']\n",
    "    df['Traded'] = df['Traded'].map(target_mapping)\n",
    "    df['Side'] = df['Side'].map(side_mapping)\n",
    "    cols = ['Counterparty']    \n",
    "    one_hot_encode = pd.get_dummies(df[cols])\n",
    "    df = df.join(one_hot_encode)\n",
    "    #df['Notional_cuts'] = pd.cut(df['Notional'], [0, 100000, 1000000, 10000000, 50000000], labels=[0, 1, 2, 3], include_lowest=True, right=True)\n",
    "    df['PnL']=((df['NextMidPrice']-df['QuotedPrice']>0).astype(float)*2-1)*df['Side']\n",
    "    cols_to_drop = ['Time','Bond','Counterparty','NextMidPrice','MidPrice','QuotedPrice']\n",
    "    return df.drop(columns=cols_to_drop)"
   ]
  },
  {
   "cell_type": "code",
   "execution_count": 50,
   "id": "8ea5450e-16a1-4a78-b096-15c3a235dcb5",
   "metadata": {},
   "outputs": [
    {
     "data": {
      "text/html": [
       "<div>\n",
       "<style scoped>\n",
       "    .dataframe tbody tr th:only-of-type {\n",
       "        vertical-align: middle;\n",
       "    }\n",
       "\n",
       "    .dataframe tbody tr th {\n",
       "        vertical-align: top;\n",
       "    }\n",
       "\n",
       "    .dataframe thead th {\n",
       "        text-align: right;\n",
       "    }\n",
       "</style>\n",
       "<table border=\"1\" class=\"dataframe\">\n",
       "  <thead>\n",
       "    <tr style=\"text-align: right;\">\n",
       "      <th></th>\n",
       "      <th>Side</th>\n",
       "      <th>Notional</th>\n",
       "      <th>Competitors</th>\n",
       "      <th>Traded</th>\n",
       "      <th>delta_from_mid</th>\n",
       "      <th>Counterparty_Ctpy_0</th>\n",
       "      <th>Counterparty_Ctpy_1</th>\n",
       "      <th>Counterparty_Ctpy_2</th>\n",
       "      <th>Counterparty_Ctpy_3</th>\n",
       "      <th>PnL</th>\n",
       "    </tr>\n",
       "  </thead>\n",
       "  <tbody>\n",
       "    <tr>\n",
       "      <th>0</th>\n",
       "      <td>-1</td>\n",
       "      <td>10000000</td>\n",
       "      <td>1</td>\n",
       "      <td>0</td>\n",
       "      <td>1.001935</td>\n",
       "      <td>1</td>\n",
       "      <td>0</td>\n",
       "      <td>0</td>\n",
       "      <td>0</td>\n",
       "      <td>1.0</td>\n",
       "    </tr>\n",
       "    <tr>\n",
       "      <th>1</th>\n",
       "      <td>1</td>\n",
       "      <td>1000</td>\n",
       "      <td>1</td>\n",
       "      <td>1</td>\n",
       "      <td>0.999898</td>\n",
       "      <td>0</td>\n",
       "      <td>1</td>\n",
       "      <td>0</td>\n",
       "      <td>0</td>\n",
       "      <td>1.0</td>\n",
       "    </tr>\n",
       "    <tr>\n",
       "      <th>2</th>\n",
       "      <td>-1</td>\n",
       "      <td>1000</td>\n",
       "      <td>1</td>\n",
       "      <td>0</td>\n",
       "      <td>1.000587</td>\n",
       "      <td>0</td>\n",
       "      <td>1</td>\n",
       "      <td>0</td>\n",
       "      <td>0</td>\n",
       "      <td>-1.0</td>\n",
       "    </tr>\n",
       "    <tr>\n",
       "      <th>3</th>\n",
       "      <td>1</td>\n",
       "      <td>20000</td>\n",
       "      <td>4</td>\n",
       "      <td>1</td>\n",
       "      <td>0.999796</td>\n",
       "      <td>1</td>\n",
       "      <td>0</td>\n",
       "      <td>0</td>\n",
       "      <td>0</td>\n",
       "      <td>-1.0</td>\n",
       "    </tr>\n",
       "    <tr>\n",
       "      <th>4</th>\n",
       "      <td>-1</td>\n",
       "      <td>1000</td>\n",
       "      <td>2</td>\n",
       "      <td>1</td>\n",
       "      <td>1.000234</td>\n",
       "      <td>0</td>\n",
       "      <td>0</td>\n",
       "      <td>0</td>\n",
       "      <td>1</td>\n",
       "      <td>-1.0</td>\n",
       "    </tr>\n",
       "  </tbody>\n",
       "</table>\n",
       "</div>"
      ],
      "text/plain": [
       "   Side  Notional  Competitors  Traded  delta_from_mid  Counterparty_Ctpy_0  \\\n",
       "0    -1  10000000            1       0        1.001935                    1   \n",
       "1     1      1000            1       1        0.999898                    0   \n",
       "2    -1      1000            1       0        1.000587                    0   \n",
       "3     1     20000            4       1        0.999796                    1   \n",
       "4    -1      1000            2       1        1.000234                    0   \n",
       "\n",
       "   Counterparty_Ctpy_1  Counterparty_Ctpy_2  Counterparty_Ctpy_3  PnL  \n",
       "0                    0                    0                    0  1.0  \n",
       "1                    1                    0                    0  1.0  \n",
       "2                    1                    0                    0 -1.0  \n",
       "3                    0                    0                    0 -1.0  \n",
       "4                    0                    0                    1 -1.0  "
      ]
     },
     "execution_count": 50,
     "metadata": {},
     "output_type": "execute_result"
    }
   ],
   "source": [
    "train = add_features(training)\n",
    "test = add_features(oos)\n",
    "train.head()"
   ]
  },
  {
   "cell_type": "markdown",
   "id": "17ccc476-246b-4112-9a5a-86bf753208e3",
   "metadata": {},
   "source": [
    "#### First Model - Predict Traded"
   ]
  },
  {
   "cell_type": "code",
   "execution_count": 51,
   "id": "4dd312c8-77fc-483b-98dc-8a9053147b37",
   "metadata": {},
   "outputs": [],
   "source": [
    "# extract input and target\n",
    "X_train = train.drop(['PnL','Traded'],axis=1).values\n",
    "y_train = train[['Traded']].values.ravel()\n",
    "X_test = test.drop(['PnL','Traded'],axis=1).values\n",
    "y_test = test[['Traded']].values.ravel()"
   ]
  },
  {
   "cell_type": "code",
   "execution_count": 52,
   "id": "a25a0d31-2a53-484b-ba8f-9a65b5c1ea15",
   "metadata": {},
   "outputs": [],
   "source": [
    "# train model\n",
    "model_1 = AdaptiveBayesianReticulum(\n",
    "    prior=(1, 1),\n",
    "    pruning_factor=1.01,\n",
    "    n_iter=100,\n",
    "    learning_rate_init=0.1,\n",
    "    n_gradient_descent_steps=1,\n",
    "    initial_relative_stiffness=20)\n",
    "\n",
    "t0 = dt.datetime.utcnow()\n",
    "model_1.fit(X_train, y_train, verbose=False)\n",
    "t1 = dt.datetime.utcnow()"
   ]
  },
  {
   "cell_type": "markdown",
   "id": "07d48b6c-14d0-426e-a48b-99ecc8ac6e91",
   "metadata": {},
   "source": [
    "#### Second Model - Predict + and - PnL"
   ]
  },
  {
   "cell_type": "code",
   "execution_count": 53,
   "id": "b9f084d1-a175-4675-a5c9-c30e181c6976",
   "metadata": {},
   "outputs": [],
   "source": [
    "# extract input and target\n",
    "y_train_p = train[['PnL']].values.ravel()\n",
    "y_test_p = test[['PnL']].values.ravel()"
   ]
  },
  {
   "cell_type": "code",
   "execution_count": 54,
   "id": "d918d7fe-a950-4e0e-b0c4-9a78430c9112",
   "metadata": {},
   "outputs": [],
   "source": [
    "# train model\n",
    "model_2 = AdaptiveBayesianReticulum(\n",
    "    prior=(1, 1),\n",
    "    pruning_factor=1.01,\n",
    "    n_iter=100,\n",
    "    learning_rate_init=0.1,\n",
    "    n_gradient_descent_steps=1,\n",
    "    initial_relative_stiffness=20)\n",
    "\n",
    "t0 = dt.datetime.utcnow()\n",
    "model_2.fit(X_train, y_train_p, verbose=False)\n",
    "t1 = dt.datetime.utcnow()"
   ]
  },
  {
   "cell_type": "markdown",
   "id": "fe837c04-a981-466b-891d-ee9843da6221",
   "metadata": {},
   "source": [
    "#### Get Probability for each test set"
   ]
  },
  {
   "cell_type": "code",
   "execution_count": 55,
   "id": "d127c27b-e8f1-45fc-b03a-6e128e45e72b",
   "metadata": {},
   "outputs": [
    {
     "data": {
      "text/plain": [
       "Index(['Side', 'Notional', 'Competitors', 'Traded', 'delta_from_mid',\n",
       "       'Counterparty_Ctpy_0', 'Counterparty_Ctpy_1', 'Counterparty_Ctpy_2',\n",
       "       'Counterparty_Ctpy_3', 'PnL'],\n",
       "      dtype='object')"
      ]
     },
     "execution_count": 55,
     "metadata": {},
     "output_type": "execute_result"
    }
   ],
   "source": [
    "columns = test.columns\n",
    "columns"
   ]
  },
  {
   "cell_type": "code",
   "execution_count": 69,
   "id": "eaca7d42-5905-45b7-9c85-ee80fa93b3d0",
   "metadata": {},
   "outputs": [],
   "source": [
    "suggested_delta = []\n",
    "for idx,row in test.iterrows():\n",
    "    sample,delta = max_pnl_price(np.arange(0,1.5,0.01),row,columns,model_1,model_2,1.5)\n",
    "    suggested_delta.append(delta*oos.iloc[idx]['QuotedPrice'])"
   ]
  },
  {
   "cell_type": "code",
   "execution_count": 76,
   "id": "74bc58b4-50ba-48d4-a0be-9386426426bc",
   "metadata": {},
   "outputs": [
    {
     "name": "stdout",
     "output_type": "stream",
     "text": [
      "pos_pnl:483\n",
      "better_price:517\n",
      "traded_pos_pnl:0\n"
     ]
    }
   ],
   "source": [
    "pnl(suggested_delta,oos)"
   ]
  },
  {
   "cell_type": "code",
   "execution_count": null,
   "id": "825ad60a-6fb0-4d32-a850-957a3d2574e8",
   "metadata": {},
   "outputs": [],
   "source": []
  }
 ],
 "metadata": {
  "kernelspec": {
   "display_name": "Python 3 (ipykernel)",
   "language": "python",
   "name": "python3"
  },
  "language_info": {
   "codemirror_mode": {
    "name": "ipython",
    "version": 3
   },
   "file_extension": ".py",
   "mimetype": "text/x-python",
   "name": "python",
   "nbconvert_exporter": "python",
   "pygments_lexer": "ipython3",
   "version": "3.10.7"
  }
 },
 "nbformat": 4,
 "nbformat_minor": 5
}
