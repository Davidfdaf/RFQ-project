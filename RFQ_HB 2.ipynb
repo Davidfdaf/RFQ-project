{
 "cells": [
  {
   "cell_type": "markdown",
   "id": "a6eb0c72-4ee6-441b-965c-b845529db2a6",
   "metadata": {},
   "source": [
    "# Imports"
   ]
  },
  {
   "cell_type": "code",
   "execution_count": 44,
   "id": "858c7454-52d6-4090-b6d9-04778d97f388",
   "metadata": {},
   "outputs": [
    {
     "name": "stdout",
     "output_type": "stream",
     "text": [
      "The autoreload extension is already loaded. To reload it, use:\n",
      "  %reload_ext autoreload\n"
     ]
    }
   ],
   "source": [
    "import pandas as pd\n",
    "import numpy as np\n",
    "import sys, math, os, json, re, random\n",
    "import scipy.stats as stats\n",
    "import matplotlib.pyplot as plt\n",
    "import seaborn as sns\n",
    "import datetime as dt\n",
    "from sklearn.metrics import accuracy_score\n",
    "from sklearn.metrics import log_loss\n",
    "\n",
    "from reticulum import AdaptiveBayesianReticulum\n",
    "from statsmodels.distributions.empirical_distribution import ECDF\n",
    "from sklearn.ensemble import RandomForestRegressor\n",
    "from sklearn import metrics\n",
    "from tqdm import tqdm\n",
    "\n",
    "# jupyter magic to display plots directly in the notebook\n",
    "%matplotlib inline\n",
    "\n",
    "# use vector graphics format for nicer plots\n",
    "%config Inline.Backend.figure_format = 'svg'\n",
    "\n",
    "%config Completer.use_jedi = False\n",
    "\n",
    "%load_ext autoreload\n",
    "%autoreload 2"
   ]
  },
  {
   "cell_type": "code",
   "execution_count": 45,
   "id": "146665a5-1e28-41d7-82b3-189abe4b432c",
   "metadata": {},
   "outputs": [],
   "source": [
    "DATA = 'RfqData.xlsx'"
   ]
  },
  {
   "cell_type": "code",
   "execution_count": 46,
   "id": "324be10d-6f30-43cc-9713-634ececf0730",
   "metadata": {},
   "outputs": [
    {
     "data": {
      "text/plain": [
       "['Overview', 'Training RFQs', 'OOS RFQs', 'Competition RFQs']"
      ]
     },
     "execution_count": 46,
     "metadata": {},
     "output_type": "execute_result"
    }
   ],
   "source": [
    "sheets = pd.ExcelFile(DATA).sheet_names\n",
    "sheets"
   ]
  },
  {
   "cell_type": "code",
   "execution_count": 47,
   "id": "27e3d111-ee83-48a8-8734-af8f8e223fe7",
   "metadata": {},
   "outputs": [],
   "source": [
    "training = pd.read_excel(DATA, sheet_name=sheets[1])\n",
    "test = pd.read_excel(DATA, sheet_name=sheets[2])\n",
    "competition = pd.read_excel(DATA, sheet_name=sheets[3])"
   ]
  },
  {
   "cell_type": "code",
   "execution_count": 48,
   "id": "a641edc9-3a3c-48d7-8d28-86e7954f9336",
   "metadata": {},
   "outputs": [
    {
     "data": {
      "text/html": [
       "<div>\n",
       "<style scoped>\n",
       "    .dataframe tbody tr th:only-of-type {\n",
       "        vertical-align: middle;\n",
       "    }\n",
       "\n",
       "    .dataframe tbody tr th {\n",
       "        vertical-align: top;\n",
       "    }\n",
       "\n",
       "    .dataframe thead th {\n",
       "        text-align: right;\n",
       "    }\n",
       "</style>\n",
       "<table border=\"1\" class=\"dataframe\">\n",
       "  <thead>\n",
       "    <tr style=\"text-align: right;\">\n",
       "      <th></th>\n",
       "      <th>Time</th>\n",
       "      <th>Bond</th>\n",
       "      <th>Side</th>\n",
       "      <th>Notional</th>\n",
       "      <th>N_group</th>\n",
       "      <th>Counterparty</th>\n",
       "      <th>MidPrice</th>\n",
       "      <th>QuotedPrice</th>\n",
       "      <th>Delta</th>\n",
       "      <th>Competitors</th>\n",
       "      <th>Profit</th>\n",
       "      <th>Status</th>\n",
       "      <th>Adjusted profit</th>\n",
       "      <th>Traded</th>\n",
       "      <th>NextMidPrice</th>\n",
       "    </tr>\n",
       "  </thead>\n",
       "  <tbody>\n",
       "    <tr>\n",
       "      <th>0</th>\n",
       "      <td>25000.0</td>\n",
       "      <td>Bond_2</td>\n",
       "      <td>Offer</td>\n",
       "      <td>10000000.0</td>\n",
       "      <td>big</td>\n",
       "      <td>Ctpy_0</td>\n",
       "      <td>124.01</td>\n",
       "      <td>124.25</td>\n",
       "      <td>0.24</td>\n",
       "      <td>1.0</td>\n",
       "      <td>-0.01</td>\n",
       "      <td>0.0</td>\n",
       "      <td>0.00</td>\n",
       "      <td>MISSED</td>\n",
       "      <td>124.24</td>\n",
       "    </tr>\n",
       "    <tr>\n",
       "      <th>1</th>\n",
       "      <td>25001.0</td>\n",
       "      <td>Bond_0</td>\n",
       "      <td>Bid</td>\n",
       "      <td>1000.0</td>\n",
       "      <td>small</td>\n",
       "      <td>Ctpy_1</td>\n",
       "      <td>98.07</td>\n",
       "      <td>98.06</td>\n",
       "      <td>0.01</td>\n",
       "      <td>1.0</td>\n",
       "      <td>0.02</td>\n",
       "      <td>1.0</td>\n",
       "      <td>0.02</td>\n",
       "      <td>DONE</td>\n",
       "      <td>98.08</td>\n",
       "    </tr>\n",
       "    <tr>\n",
       "      <th>2</th>\n",
       "      <td>25002.0</td>\n",
       "      <td>Bond_1</td>\n",
       "      <td>Offer</td>\n",
       "      <td>1000.0</td>\n",
       "      <td>small</td>\n",
       "      <td>Ctpy_1</td>\n",
       "      <td>170.30</td>\n",
       "      <td>170.40</td>\n",
       "      <td>0.10</td>\n",
       "      <td>1.0</td>\n",
       "      <td>0.24</td>\n",
       "      <td>0.0</td>\n",
       "      <td>0.00</td>\n",
       "      <td>MISSED</td>\n",
       "      <td>170.64</td>\n",
       "    </tr>\n",
       "    <tr>\n",
       "      <th>3</th>\n",
       "      <td>25003.0</td>\n",
       "      <td>Bond_0</td>\n",
       "      <td>Bid</td>\n",
       "      <td>20000.0</td>\n",
       "      <td>big</td>\n",
       "      <td>Ctpy_0</td>\n",
       "      <td>98.00</td>\n",
       "      <td>97.98</td>\n",
       "      <td>0.02</td>\n",
       "      <td>4.0</td>\n",
       "      <td>-0.04</td>\n",
       "      <td>1.0</td>\n",
       "      <td>-0.04</td>\n",
       "      <td>DONE</td>\n",
       "      <td>97.94</td>\n",
       "    </tr>\n",
       "    <tr>\n",
       "      <th>4</th>\n",
       "      <td>25004.0</td>\n",
       "      <td>Bond_1</td>\n",
       "      <td>Offer</td>\n",
       "      <td>1000.0</td>\n",
       "      <td>small</td>\n",
       "      <td>Ctpy_3</td>\n",
       "      <td>171.12</td>\n",
       "      <td>171.16</td>\n",
       "      <td>0.04</td>\n",
       "      <td>2.0</td>\n",
       "      <td>0.30</td>\n",
       "      <td>1.0</td>\n",
       "      <td>0.30</td>\n",
       "      <td>DONE</td>\n",
       "      <td>171.46</td>\n",
       "    </tr>\n",
       "  </tbody>\n",
       "</table>\n",
       "</div>"
      ],
      "text/plain": [
       "      Time    Bond   Side    Notional N_group Counterparty  MidPrice  \\\n",
       "0  25000.0  Bond_2  Offer  10000000.0     big       Ctpy_0    124.01   \n",
       "1  25001.0  Bond_0    Bid      1000.0   small       Ctpy_1     98.07   \n",
       "2  25002.0  Bond_1  Offer      1000.0   small       Ctpy_1    170.30   \n",
       "3  25003.0  Bond_0    Bid     20000.0     big       Ctpy_0     98.00   \n",
       "4  25004.0  Bond_1  Offer      1000.0   small       Ctpy_3    171.12   \n",
       "\n",
       "   QuotedPrice  Delta  Competitors  Profit  Status  Adjusted profit  Traded  \\\n",
       "0       124.25   0.24          1.0   -0.01     0.0             0.00  MISSED   \n",
       "1        98.06   0.01          1.0    0.02     1.0             0.02    DONE   \n",
       "2       170.40   0.10          1.0    0.24     0.0             0.00  MISSED   \n",
       "3        97.98   0.02          4.0   -0.04     1.0            -0.04    DONE   \n",
       "4       171.16   0.04          2.0    0.30     1.0             0.30    DONE   \n",
       "\n",
       "   NextMidPrice  \n",
       "0        124.24  \n",
       "1         98.08  \n",
       "2        170.64  \n",
       "3         97.94  \n",
       "4        171.46  "
      ]
     },
     "execution_count": 48,
     "metadata": {},
     "output_type": "execute_result"
    }
   ],
   "source": [
    "training.head()"
   ]
  },
  {
   "cell_type": "code",
   "execution_count": null,
   "id": "10cedd77-eeba-43e8-87de-47535a384c0c",
   "metadata": {},
   "outputs": [],
   "source": [
    "training = training.dropna()\n",
    "test = test.dropna()"
   ]
  },
  {
   "cell_type": "code",
   "execution_count": 62,
   "id": "c7858ab6-124c-4264-9d22-ab7ef2764ebb",
   "metadata": {},
   "outputs": [
    {
     "data": {
      "text/html": [
       "<div>\n",
       "<style scoped>\n",
       "    .dataframe tbody tr th:only-of-type {\n",
       "        vertical-align: middle;\n",
       "    }\n",
       "\n",
       "    .dataframe tbody tr th {\n",
       "        vertical-align: top;\n",
       "    }\n",
       "\n",
       "    .dataframe thead th {\n",
       "        text-align: right;\n",
       "    }\n",
       "</style>\n",
       "<table border=\"1\" class=\"dataframe\">\n",
       "  <thead>\n",
       "    <tr style=\"text-align: right;\">\n",
       "      <th></th>\n",
       "      <th>Time</th>\n",
       "      <th>Bond</th>\n",
       "      <th>Side</th>\n",
       "      <th>Notional</th>\n",
       "      <th>Counterparty</th>\n",
       "      <th>MidPrice</th>\n",
       "      <th>QuotedPrice</th>\n",
       "      <th>Delta</th>\n",
       "      <th>Competitors</th>\n",
       "      <th>Profit</th>\n",
       "      <th>Status</th>\n",
       "      <th>Adjusted profit</th>\n",
       "      <th>Traded</th>\n",
       "      <th>NextMidPrice</th>\n",
       "    </tr>\n",
       "  </thead>\n",
       "  <tbody>\n",
       "    <tr>\n",
       "      <th>0</th>\n",
       "      <td>25000.0</td>\n",
       "      <td>Bond_2</td>\n",
       "      <td>Offer</td>\n",
       "      <td>10000000.0</td>\n",
       "      <td>Ctpy_0</td>\n",
       "      <td>124.01</td>\n",
       "      <td>124.25</td>\n",
       "      <td>0.24</td>\n",
       "      <td>1.0</td>\n",
       "      <td>-0.01</td>\n",
       "      <td>0.0</td>\n",
       "      <td>0.00</td>\n",
       "      <td>MISSED</td>\n",
       "      <td>124.24</td>\n",
       "    </tr>\n",
       "    <tr>\n",
       "      <th>1</th>\n",
       "      <td>25001.0</td>\n",
       "      <td>Bond_0</td>\n",
       "      <td>Bid</td>\n",
       "      <td>1000.0</td>\n",
       "      <td>Ctpy_1</td>\n",
       "      <td>98.07</td>\n",
       "      <td>98.06</td>\n",
       "      <td>0.01</td>\n",
       "      <td>1.0</td>\n",
       "      <td>0.02</td>\n",
       "      <td>1.0</td>\n",
       "      <td>0.02</td>\n",
       "      <td>DONE</td>\n",
       "      <td>98.08</td>\n",
       "    </tr>\n",
       "    <tr>\n",
       "      <th>2</th>\n",
       "      <td>25002.0</td>\n",
       "      <td>Bond_1</td>\n",
       "      <td>Offer</td>\n",
       "      <td>1000.0</td>\n",
       "      <td>Ctpy_1</td>\n",
       "      <td>170.30</td>\n",
       "      <td>170.40</td>\n",
       "      <td>0.10</td>\n",
       "      <td>1.0</td>\n",
       "      <td>0.24</td>\n",
       "      <td>0.0</td>\n",
       "      <td>0.00</td>\n",
       "      <td>MISSED</td>\n",
       "      <td>170.64</td>\n",
       "    </tr>\n",
       "    <tr>\n",
       "      <th>3</th>\n",
       "      <td>25003.0</td>\n",
       "      <td>Bond_0</td>\n",
       "      <td>Bid</td>\n",
       "      <td>20000.0</td>\n",
       "      <td>Ctpy_0</td>\n",
       "      <td>98.00</td>\n",
       "      <td>97.98</td>\n",
       "      <td>0.02</td>\n",
       "      <td>4.0</td>\n",
       "      <td>-0.04</td>\n",
       "      <td>1.0</td>\n",
       "      <td>-0.04</td>\n",
       "      <td>DONE</td>\n",
       "      <td>97.94</td>\n",
       "    </tr>\n",
       "    <tr>\n",
       "      <th>4</th>\n",
       "      <td>25004.0</td>\n",
       "      <td>Bond_1</td>\n",
       "      <td>Offer</td>\n",
       "      <td>1000.0</td>\n",
       "      <td>Ctpy_3</td>\n",
       "      <td>171.12</td>\n",
       "      <td>171.16</td>\n",
       "      <td>0.04</td>\n",
       "      <td>2.0</td>\n",
       "      <td>0.30</td>\n",
       "      <td>1.0</td>\n",
       "      <td>0.30</td>\n",
       "      <td>DONE</td>\n",
       "      <td>171.46</td>\n",
       "    </tr>\n",
       "    <tr>\n",
       "      <th>...</th>\n",
       "      <td>...</td>\n",
       "      <td>...</td>\n",
       "      <td>...</td>\n",
       "      <td>...</td>\n",
       "      <td>...</td>\n",
       "      <td>...</td>\n",
       "      <td>...</td>\n",
       "      <td>...</td>\n",
       "      <td>...</td>\n",
       "      <td>...</td>\n",
       "      <td>...</td>\n",
       "      <td>...</td>\n",
       "      <td>...</td>\n",
       "      <td>...</td>\n",
       "    </tr>\n",
       "    <tr>\n",
       "      <th>4995</th>\n",
       "      <td>29995.0</td>\n",
       "      <td>Bond_0</td>\n",
       "      <td>Bid</td>\n",
       "      <td>1000.0</td>\n",
       "      <td>Ctpy_0</td>\n",
       "      <td>85.15</td>\n",
       "      <td>85.12</td>\n",
       "      <td>0.03</td>\n",
       "      <td>4.0</td>\n",
       "      <td>0.02</td>\n",
       "      <td>1.0</td>\n",
       "      <td>0.02</td>\n",
       "      <td>DONE</td>\n",
       "      <td>85.14</td>\n",
       "    </tr>\n",
       "    <tr>\n",
       "      <th>4996</th>\n",
       "      <td>29996.0</td>\n",
       "      <td>Bond_2</td>\n",
       "      <td>Bid</td>\n",
       "      <td>1000.0</td>\n",
       "      <td>Ctpy_3</td>\n",
       "      <td>108.73</td>\n",
       "      <td>108.69</td>\n",
       "      <td>0.04</td>\n",
       "      <td>4.0</td>\n",
       "      <td>-0.12</td>\n",
       "      <td>1.0</td>\n",
       "      <td>-0.12</td>\n",
       "      <td>DONE</td>\n",
       "      <td>108.57</td>\n",
       "    </tr>\n",
       "    <tr>\n",
       "      <th>4997</th>\n",
       "      <td>29997.0</td>\n",
       "      <td>Bond_0</td>\n",
       "      <td>Bid</td>\n",
       "      <td>1000.0</td>\n",
       "      <td>Ctpy_3</td>\n",
       "      <td>84.98</td>\n",
       "      <td>84.96</td>\n",
       "      <td>0.02</td>\n",
       "      <td>4.0</td>\n",
       "      <td>-0.09</td>\n",
       "      <td>1.0</td>\n",
       "      <td>-0.09</td>\n",
       "      <td>DONE</td>\n",
       "      <td>84.87</td>\n",
       "    </tr>\n",
       "    <tr>\n",
       "      <th>4998</th>\n",
       "      <td>29998.0</td>\n",
       "      <td>Bond_2</td>\n",
       "      <td>Bid</td>\n",
       "      <td>1000.0</td>\n",
       "      <td>Ctpy_2</td>\n",
       "      <td>108.43</td>\n",
       "      <td>108.32</td>\n",
       "      <td>0.11</td>\n",
       "      <td>2.0</td>\n",
       "      <td>-0.01</td>\n",
       "      <td>0.0</td>\n",
       "      <td>0.00</td>\n",
       "      <td>MISSED</td>\n",
       "      <td>108.31</td>\n",
       "    </tr>\n",
       "    <tr>\n",
       "      <th>4999</th>\n",
       "      <td>29999.0</td>\n",
       "      <td>Bond_1</td>\n",
       "      <td>Offer</td>\n",
       "      <td>1000.0</td>\n",
       "      <td>Ctpy_1</td>\n",
       "      <td>121.85</td>\n",
       "      <td>121.99</td>\n",
       "      <td>0.14</td>\n",
       "      <td>2.0</td>\n",
       "      <td>-0.21</td>\n",
       "      <td>0.0</td>\n",
       "      <td>0.00</td>\n",
       "      <td>MISSED</td>\n",
       "      <td>121.78</td>\n",
       "    </tr>\n",
       "  </tbody>\n",
       "</table>\n",
       "<p>5000 rows × 14 columns</p>\n",
       "</div>"
      ],
      "text/plain": [
       "         Time    Bond   Side    Notional Counterparty  MidPrice  QuotedPrice  \\\n",
       "0     25000.0  Bond_2  Offer  10000000.0       Ctpy_0    124.01       124.25   \n",
       "1     25001.0  Bond_0    Bid      1000.0       Ctpy_1     98.07        98.06   \n",
       "2     25002.0  Bond_1  Offer      1000.0       Ctpy_1    170.30       170.40   \n",
       "3     25003.0  Bond_0    Bid     20000.0       Ctpy_0     98.00        97.98   \n",
       "4     25004.0  Bond_1  Offer      1000.0       Ctpy_3    171.12       171.16   \n",
       "...       ...     ...    ...         ...          ...       ...          ...   \n",
       "4995  29995.0  Bond_0    Bid      1000.0       Ctpy_0     85.15        85.12   \n",
       "4996  29996.0  Bond_2    Bid      1000.0       Ctpy_3    108.73       108.69   \n",
       "4997  29997.0  Bond_0    Bid      1000.0       Ctpy_3     84.98        84.96   \n",
       "4998  29998.0  Bond_2    Bid      1000.0       Ctpy_2    108.43       108.32   \n",
       "4999  29999.0  Bond_1  Offer      1000.0       Ctpy_1    121.85       121.99   \n",
       "\n",
       "      Delta  Competitors  Profit  Status  Adjusted profit  Traded  \\\n",
       "0      0.24          1.0   -0.01     0.0             0.00  MISSED   \n",
       "1      0.01          1.0    0.02     1.0             0.02    DONE   \n",
       "2      0.10          1.0    0.24     0.0             0.00  MISSED   \n",
       "3      0.02          4.0   -0.04     1.0            -0.04    DONE   \n",
       "4      0.04          2.0    0.30     1.0             0.30    DONE   \n",
       "...     ...          ...     ...     ...              ...     ...   \n",
       "4995   0.03          4.0    0.02     1.0             0.02    DONE   \n",
       "4996   0.04          4.0   -0.12     1.0            -0.12    DONE   \n",
       "4997   0.02          4.0   -0.09     1.0            -0.09    DONE   \n",
       "4998   0.11          2.0   -0.01     0.0             0.00  MISSED   \n",
       "4999   0.14          2.0   -0.21     0.0             0.00  MISSED   \n",
       "\n",
       "      NextMidPrice  \n",
       "0           124.24  \n",
       "1            98.08  \n",
       "2           170.64  \n",
       "3            97.94  \n",
       "4           171.46  \n",
       "...            ...  \n",
       "4995         85.14  \n",
       "4996        108.57  \n",
       "4997         84.87  \n",
       "4998        108.31  \n",
       "4999        121.78  \n",
       "\n",
       "[5000 rows x 14 columns]"
      ]
     },
     "execution_count": 62,
     "metadata": {},
     "output_type": "execute_result"
    }
   ],
   "source": [
    "training.d"
   ]
  },
  {
   "cell_type": "code",
   "execution_count": 50,
   "id": "51cc0a02-46e4-4d58-b5bf-0634f57ccf73",
   "metadata": {},
   "outputs": [],
   "source": [
    "target_mapping = {'MISSED': 0, 'DONE': 1}"
   ]
  },
  {
   "cell_type": "code",
   "execution_count": 51,
   "id": "cd713412-7dff-4910-bb4d-e1b1fd32fd33",
   "metadata": {},
   "outputs": [],
   "source": [
    "def add_features(df):\n",
    "    df['Notional_cuts'] = pd.cut(df['Notional'], [0, 100000, 1000000, 10000000, 50000000], labels=[0, 1, 2, 3], include_lowest=True, right=True)\n",
    "    df['Traded'] = df['Traded'].map(target_mapping)\n",
    "    \n",
    "    return df"
   ]
  },
  {
   "cell_type": "markdown",
   "id": "d59b85fe-c518-4045-9b5b-b75be3cc9e10",
   "metadata": {},
   "source": [
    "### Trade Classification"
   ]
  },
  {
   "cell_type": "code",
   "execution_count": 52,
   "id": "e58a5a7f-d692-4e4a-bbdf-90ad659e1c30",
   "metadata": {},
   "outputs": [],
   "source": [
    "def add_features_classifier(df):\n",
    "    df['quote_diff'] = (df['QuotedPrice'] - df['MidPrice'])\n",
    "    df['Traded'] = df['Traded'].map(target_mapping)\n",
    "    # df['Competitors'] = df['Competitors'].apply(lambda x: str(x))\n",
    "    df['Notional_cuts'] = pd.cut(df['Notional'], [0, 100000, 1000000, 10000000, 50000000], labels=[0, 1, 2, 3], include_lowest=True, right=True)\n",
    "    \n",
    "    cols = ['Side']\n",
    "    one_hot_encode = pd.get_dummies(df[cols])\n",
    "    df = df.join(one_hot_encode)\n",
    "    \n",
    "    cols_to_drop = ['Bond', 'Side', 'Counterparty', 'Time'] + ['Notional', 'QuotedPrice', 'MidPrice', 'NextMidPrice']\n",
    "    \n",
    "    return df.drop(columns=cols_to_drop)"
   ]
  },
  {
   "cell_type": "code",
   "execution_count": 53,
   "id": "aa3abef8-9c33-4164-9701-95146c6b6e79",
   "metadata": {},
   "outputs": [],
   "source": [
    "def prep_data_classifier(train, test, y_value): # extract input and target\n",
    "    X_train = train.drop(columns=[y_value]).values  \n",
    "    y_train = train[[y_value]].values.ravel()\n",
    "    \n",
    "    X_test = test.drop(columns=[y_value]).values\n",
    "    y_test = test[[y_value]].values.ravel()\n",
    "    \n",
    "    return X_train, y_train, X_test, y_test"
   ]
  },
  {
   "cell_type": "code",
   "execution_count": 54,
   "id": "c5ad2744-1b18-45ba-9870-90768d75f8fa",
   "metadata": {},
   "outputs": [],
   "source": [
    "training = training.drop(columns = 'N_group')"
   ]
  },
  {
   "cell_type": "code",
   "execution_count": 55,
   "id": "b3fdffd0-a1d4-431f-97d4-9550b5129f12",
   "metadata": {},
   "outputs": [],
   "source": [
    "test = test.drop(columns = 'N_group')"
   ]
  },
  {
   "cell_type": "code",
   "execution_count": 56,
   "id": "d1c7e08c-1191-489c-aa82-c2a41530eda5",
   "metadata": {},
   "outputs": [],
   "source": [
    "training_classifier = add_features_classifier(training.copy())\n",
    "test_classifier = add_features_classifier(test.copy())"
   ]
  },
  {
   "cell_type": "code",
   "execution_count": 57,
   "id": "c01c1fc5-6396-481d-98a5-437835ee97f2",
   "metadata": {},
   "outputs": [],
   "source": [
    "X_train_c, y_train_c, X_test_c, y_test_c = prep_data_classifier(training_classifier, test_classifier, 'Traded')"
   ]
  },
  {
   "cell_type": "code",
   "execution_count": 58,
   "id": "928d2201-9ecd-4946-aeac-37c1bff9ae44",
   "metadata": {},
   "outputs": [
    {
     "data": {
      "text/plain": [
       "array([[ 0.24,  1.  , -0.01, ...,  2.  ,  0.  ,  1.  ],\n",
       "       [ 0.01,  1.  ,  0.02, ...,  0.  ,  1.  ,  0.  ],\n",
       "       [ 0.1 ,  1.  ,  0.24, ...,  0.  ,  0.  ,  1.  ],\n",
       "       ...,\n",
       "       [ 0.02,  4.  , -0.09, ...,  0.  ,  1.  ,  0.  ],\n",
       "       [ 0.11,  2.  , -0.01, ...,  0.  ,  1.  ,  0.  ],\n",
       "       [ 0.14,  2.  , -0.21, ...,  0.  ,  0.  ,  1.  ]])"
      ]
     },
     "execution_count": 58,
     "metadata": {},
     "output_type": "execute_result"
    }
   ],
   "source": [
    "X_train_c"
   ]
  },
  {
   "cell_type": "code",
   "execution_count": 60,
   "id": "7b384889-e71b-473f-be12-73514ef4c2e4",
   "metadata": {},
   "outputs": [
    {
     "data": {
      "text/plain": [
       "array([[ 2.  , -0.31,  1.  ,  1.  ,  0.  ],\n",
       "       [ 3.  , -0.03,  0.  ,  1.  ,  0.  ],\n",
       "       [ 4.  , -0.01,  0.  ,  1.  ,  0.  ],\n",
       "       ...,\n",
       "       [ 1.  ,  0.07,  0.  ,  0.  ,  1.  ],\n",
       "       [ 3.  , -0.06,  0.  ,  1.  ,  0.  ],\n",
       "       [ 4.  ,  0.1 ,  0.  ,  0.  ,  1.  ]])"
      ]
     },
     "execution_count": 60,
     "metadata": {},
     "output_type": "execute_result"
    }
   ],
   "source": [
    "X_test_c"
   ]
  },
  {
   "cell_type": "code",
   "execution_count": 59,
   "id": "1344c5d6-c337-4b9d-8570-780fe746375a",
   "metadata": {},
   "outputs": [
    {
     "name": "stdout",
     "output_type": "stream",
     "text": [
      "Training took 0:00:00.412416\n"
     ]
    },
    {
     "ename": "ValueError",
     "evalue": "Bad input dimensions: Expected 9, got 5",
     "output_type": "error",
     "traceback": [
      "\u001b[0;31m---------------------------------------------------------------------------\u001b[0m",
      "\u001b[0;31mValueError\u001b[0m                                Traceback (most recent call last)",
      "Cell \u001b[0;32mIn [59], line 20\u001b[0m\n\u001b[1;32m     18\u001b[0m \u001b[38;5;66;03m# evaluate performance\u001b[39;00m\n\u001b[1;32m     19\u001b[0m log_loss_train \u001b[38;5;241m=\u001b[39m log_loss(y_train_c, ABRmodel\u001b[38;5;241m.\u001b[39mpredict_proba(X_train_c))\n\u001b[0;32m---> 20\u001b[0m log_loss_test \u001b[38;5;241m=\u001b[39m log_loss(y_test_c, \u001b[43mABRmodel\u001b[49m\u001b[38;5;241;43m.\u001b[39;49m\u001b[43mpredict_proba\u001b[49m\u001b[43m(\u001b[49m\u001b[43mX_test_c\u001b[49m\u001b[43m)\u001b[49m)\n\u001b[1;32m     21\u001b[0m accuracy_train \u001b[38;5;241m=\u001b[39m accuracy_score(y_train_c, ABRmodel\u001b[38;5;241m.\u001b[39mpredict(X_train_c))\n\u001b[1;32m     22\u001b[0m accuracy_test \u001b[38;5;241m=\u001b[39m accuracy_score(y_test_c, ABRmodel\u001b[38;5;241m.\u001b[39mpredict(X_test_c))\n",
      "File \u001b[0;32m~/Desktop/Cornell/FX Rates Crypto/adaptive-bayesian-reticulum/reticulum/reticulum.py:313\u001b[0m, in \u001b[0;36mAdaptiveBayesianReticulum.predict_proba\u001b[0;34m(self, X)\u001b[0m\n\u001b[1;32m    299\u001b[0m \u001b[38;5;28;01mdef\u001b[39;00m \u001b[38;5;21mpredict_proba\u001b[39m(\u001b[38;5;28mself\u001b[39m, X: INPUT) \u001b[38;5;241m-\u001b[39m\u001b[38;5;241m>\u001b[39m np\u001b[38;5;241m.\u001b[39mndarray:\n\u001b[1;32m    300\u001b[0m     \u001b[38;5;124;03m\"\"\"Predict class probabilities of the input samples X.\u001b[39;00m\n\u001b[1;32m    301\u001b[0m \n\u001b[1;32m    302\u001b[0m \u001b[38;5;124;03m    Parameters\u001b[39;00m\n\u001b[0;32m   (...)\u001b[0m\n\u001b[1;32m    310\u001b[0m \u001b[38;5;124;03m        The predicted class probabilities.\u001b[39;00m\n\u001b[1;32m    311\u001b[0m \u001b[38;5;124;03m    \"\"\"\u001b[39;00m\n\u001b[0;32m--> 313\u001b[0m     \u001b[38;5;28;01mreturn\u001b[39;00m \u001b[38;5;28;43mself\u001b[39;49m\u001b[38;5;241;43m.\u001b[39;49m\u001b[43m_predict\u001b[49m\u001b[43m(\u001b[49m\u001b[43mX\u001b[49m\u001b[43m,\u001b[49m\u001b[43m \u001b[49m\u001b[43mpredict_class\u001b[49m\u001b[38;5;241;43m=\u001b[39;49m\u001b[38;5;28;43;01mFalse\u001b[39;49;00m\u001b[43m)\u001b[49m\n",
      "File \u001b[0;32m~/Desktop/Cornell/FX Rates Crypto/adaptive-bayesian-reticulum/reticulum/reticulum.py:319\u001b[0m, in \u001b[0;36mAdaptiveBayesianReticulum._predict\u001b[0;34m(self, X, predict_class)\u001b[0m\n\u001b[1;32m    317\u001b[0m X \u001b[38;5;241m=\u001b[39m check_array(X)  \u001b[38;5;66;03m# type: np.ndarray\u001b[39;00m\n\u001b[1;32m    318\u001b[0m X \u001b[38;5;241m=\u001b[39m \u001b[38;5;28mself\u001b[39m\u001b[38;5;241m.\u001b[39m_normalize_data(X)\n\u001b[0;32m--> 319\u001b[0m \u001b[38;5;28;43mself\u001b[39;49m\u001b[38;5;241;43m.\u001b[39;49m\u001b[43m_ensure_is_fitted_and_valid\u001b[49m\u001b[43m(\u001b[49m\u001b[43mX\u001b[49m\u001b[43m)\u001b[49m\n\u001b[1;32m    321\u001b[0m Xa \u001b[38;5;241m=\u001b[39m np\u001b[38;5;241m.\u001b[39mhstack([np\u001b[38;5;241m.\u001b[39mones((X\u001b[38;5;241m.\u001b[39mshape[\u001b[38;5;241m0\u001b[39m], \u001b[38;5;241m1\u001b[39m)), X])\n\u001b[1;32m    322\u001b[0m n_data \u001b[38;5;241m=\u001b[39m Xa\u001b[38;5;241m.\u001b[39mshape[\u001b[38;5;241m0\u001b[39m]\n",
      "File \u001b[0;32m~/Desktop/Cornell/FX Rates Crypto/adaptive-bayesian-reticulum/reticulum/reticulum.py:412\u001b[0m, in \u001b[0;36mAdaptiveBayesianReticulum._ensure_is_fitted_and_valid\u001b[0;34m(self, X)\u001b[0m\n\u001b[1;32m    409\u001b[0m     \u001b[38;5;28;01mraise\u001b[39;00m NotFittedError(\u001b[38;5;124m'\u001b[39m\u001b[38;5;124mCannot predict on an untrained model; call .fit() first\u001b[39m\u001b[38;5;124m'\u001b[39m)\n\u001b[1;32m    411\u001b[0m \u001b[38;5;28;01mif\u001b[39;00m X \u001b[38;5;129;01mis\u001b[39;00m \u001b[38;5;129;01mnot\u001b[39;00m \u001b[38;5;28;01mNone\u001b[39;00m \u001b[38;5;129;01mand\u001b[39;00m X\u001b[38;5;241m.\u001b[39mshape[\u001b[38;5;241m1\u001b[39m] \u001b[38;5;241m!=\u001b[39m \u001b[38;5;28mself\u001b[39m\u001b[38;5;241m.\u001b[39mn_dim_:\n\u001b[0;32m--> 412\u001b[0m     \u001b[38;5;28;01mraise\u001b[39;00m \u001b[38;5;167;01mValueError\u001b[39;00m(\u001b[38;5;124mf\u001b[39m\u001b[38;5;124m'\u001b[39m\u001b[38;5;124mBad input dimensions: Expected \u001b[39m\u001b[38;5;132;01m{\u001b[39;00m\u001b[38;5;28mself\u001b[39m\u001b[38;5;241m.\u001b[39mn_dim_\u001b[38;5;132;01m}\u001b[39;00m\u001b[38;5;124m, got \u001b[39m\u001b[38;5;132;01m{\u001b[39;00mX\u001b[38;5;241m.\u001b[39mshape[\u001b[38;5;241m1\u001b[39m]\u001b[38;5;132;01m}\u001b[39;00m\u001b[38;5;124m'\u001b[39m)\n",
      "\u001b[0;31mValueError\u001b[0m: Bad input dimensions: Expected 9, got 5"
     ]
    }
   ],
   "source": [
    "# train model\n",
    "ABRmodel = AdaptiveBayesianReticulum(\n",
    "    prior=(1, 1),\n",
    "    pruning_factor=1.01,\n",
    "    n_iter=100,\n",
    "    learning_rate_init=0.05,\n",
    "    n_gradient_descent_steps=1,\n",
    "    initial_relative_stiffness=20)\n",
    "\n",
    "t0 = dt.datetime.utcnow()\n",
    "ABRmodel.fit(X_train_c, y_train_c, verbose=False)\n",
    "t1 = dt.datetime.utcnow()\n",
    "\n",
    "# print('Model:')\n",
    "# print(ABRmodel)\n",
    "print(f'Training took {t1-t0}')\n",
    "\n",
    "# evaluate performance\n",
    "log_loss_train = log_loss(y_train_c, ABRmodel.predict_proba(X_train_c))\n",
    "log_loss_test = log_loss(y_test_c, ABRmodel.predict_proba(X_test_c))\n",
    "accuracy_train = accuracy_score(y_train_c, ABRmodel.predict(X_train_c))\n",
    "accuracy_test = accuracy_score(y_test_c, ABRmodel.predict(X_test_c))\n",
    "\n",
    "info_train = f'Train: Log-loss = {log_loss_train}, accuracy = {100*accuracy_train:.4f} %'\n",
    "info_test = f'Test: Log-loss = {log_loss_test}, accuracy = {100*accuracy_test:.4f} %'\n",
    "print(f'Depth:  {ABRmodel.get_depth()}')\n",
    "print(f'Leaves: {ABRmodel.get_n_leaves()}')\n",
    "print(info_train)\n",
    "print(info_test)\n",
    "print(f'Feature importance: {ABRmodel.feature_importance()}')"
   ]
  },
  {
   "cell_type": "markdown",
   "id": "13f27baa-c3a3-4461-9134-2e99d7c8874b",
   "metadata": {},
   "source": [
    "### Mid Price Prediction for Counterparty 0"
   ]
  },
  {
   "cell_type": "code",
   "execution_count": null,
   "id": "151932aa-cd0a-486d-995f-3c474ca1764c",
   "metadata": {},
   "outputs": [],
   "source": [
    "def add_features_rf(df):\n",
    "    df['Notional_cuts'] = pd.cut(df['Notional'], [0, 100000, 1000000, 10000000, 50000000], labels=[0, 1, 2, 3], include_lowest=True, right=True)\n",
    "    df['NextMidP'] = df['NextMidPrice']/df['MidPrice']\n",
    "    df['Traded'] = df['Traded'].map(target_mapping)\n",
    "    \n",
    "    cols = ['Side']\n",
    "    one_hot_encode = pd.get_dummies(df[cols])\n",
    "    df = df.join(one_hot_encode)\n",
    "    \n",
    "    cols3 = ['Bond']\n",
    "    one_hot_encode3 = pd.get_dummies(df[cols3])\n",
    "    df = df.join(one_hot_encode3)\n",
    "    \n",
    "    cols_to_drop = ['Bond', 'Side', 'Time', 'QuotedPrice'] + ['NextMidPrice', 'Notional', 'Traded']\n",
    "    \n",
    "    return df.drop(columns=cols_to_drop)"
   ]
  },
  {
   "cell_type": "code",
   "execution_count": null,
   "id": "68863646-032b-47d3-9c9b-4502c2f565b4",
   "metadata": {},
   "outputs": [],
   "source": [
    "def random_forest_hyperparameters(X_train, y_train, X_test, y_test):\n",
    "    estimators = np.arange(5, 51, 1)\n",
    "    train_rmses = []\n",
    "    test_rmses = []\n",
    "    train_sign_errors = []\n",
    "    test_sign_errors = []\n",
    "    \n",
    "    for e in tqdm(estimators):\n",
    "        regressor, preds, metrics = random_forest(X_train, y_train, X_test, y_test, e)\n",
    "        train_rmses.append(metrics[0])\n",
    "        test_rmses.append(metrics[1])\n",
    "        train_sign_errors.append(metrics[2])\n",
    "        test_sign_errors.append(metrics[3])\n",
    "        \n",
    "    plt.plot(estimators, train_rmses)\n",
    "    plt.title('Train RMSE')\n",
    "    plt.show()\n",
    "    plt.plot(estimators, test_rmses)\n",
    "    plt.title('Test RMSE')\n",
    "    plt.show()\n",
    "    \n",
    "    plt.plot(estimators, train_sign_errors, label='Train')\n",
    "    plt.plot(estimators, test_sign_errors, label='Test')\n",
    "    plt.title('Sign Errors')\n",
    "    plt.legend()\n",
    "    plt.show()\n",
    "    \n",
    "    return regressor, [train_rmses, test_rmses, train_sign_errors, test_sign_errors]"
   ]
  },
  {
   "cell_type": "code",
   "execution_count": null,
   "id": "401b62ac-1572-4570-9cb9-e4717a12d364",
   "metadata": {},
   "outputs": [],
   "source": [
    "def random_forest(X_train, y_train, X_test, y_test, e):\n",
    "    regressor = RandomForestRegressor(n_estimators=e, random_state=0)\n",
    "    regressor.fit(X_train, y_train)\n",
    "    y_pred = regressor.predict(X_test)\n",
    "    train_rmse = (np.sqrt(metrics.mean_squared_error(regressor.predict(X_train), y_train)))\n",
    "    test_rmse = (np.sqrt(metrics.mean_squared_error(y_test, y_pred)))\n",
    "    train_se = (np.sign(regressor.predict(X_train) -np.ones(len(X_train))) != np.sign(y_train - np.ones(len(X_train)))).sum()/len(X_train)\n",
    "    test_se = (np.sign(y_pred - np.ones(len(y_pred))) != np.sign(y_test - np.ones(len(y_pred)))).sum()/len(y_test)\n",
    "    return regressor, y_pred, [train_rmse, test_rmse, train_se, test_se]"
   ]
  },
  {
   "cell_type": "code",
   "execution_count": null,
   "id": "641c125f-0765-4023-8ca9-c3ea313e5f02",
   "metadata": {},
   "outputs": [],
   "source": [
    "def get_train_test(df_train, df_test):\n",
    "    X_train = df_train.drop(columns=['NextMidP', 'MidPrice', 'Counterparty']).values\n",
    "    y_train = df_train[['NextMidP']].values.ravel()\n",
    "    X_test = df_test.drop(columns=['NextMidP', 'MidPrice', 'Counterparty']).values\n",
    "    y_test = df_test[['NextMidP']].values.ravel()\n",
    "    \n",
    "    return X_train, y_train, X_test, y_test"
   ]
  },
  {
   "cell_type": "code",
   "execution_count": null,
   "id": "c6e528de-1259-4258-ba1e-c8de6d647be2",
   "metadata": {},
   "outputs": [],
   "source": [
    "counterparty_models = {}\n",
    "counterparty_ecdfs = {}"
   ]
  },
  {
   "cell_type": "code",
   "execution_count": null,
   "id": "898f3a87-ca89-419a-aa61-c0ab08c16e5b",
   "metadata": {},
   "outputs": [],
   "source": [
    "def random_forest_for_counterparty(training, test, counterparty):\n",
    "    train = add_features_rf(training.query(\"Counterparty == @counterparty\").copy())\n",
    "    test = add_features_rf(test.query(\"Counterparty == @counterparty\").copy())\n",
    "    \n",
    "    train_midp = train[['MidPrice']].values.ravel()\n",
    "    \n",
    "    X_train, y_train, X_test, y_test = get_train_test(train, test)\n",
    "    \n",
    "    reg, y_pred, error_metrics = random_forest(X_train, y_train, X_test, y_test, 40)\n",
    "    print(counterparty)\n",
    "    print(\"Train RMSE =\", error_metrics[0])\n",
    "    print(\"Test RMSE =\", error_metrics[1])\n",
    "    print(\"Train sign error =\", error_metrics[2])\n",
    "    print(\"Test sign error =\", error_metrics[3])\n",
    "    \n",
    "    train_preds = reg.predict(X_train)\n",
    "    next_midp_pred = train_preds * train_midp\n",
    "    next_midp_true = y_train * train_midp\n",
    "    errors = next_midp_pred - next_midp_true\n",
    "    print('Train RMSE in $ =', np.sqrt(np.mean(np.power(errors, 2))))\n",
    "    ecdf = ECDF(errors)\n",
    "    \n",
    "    counterparty_models[counterparty] = reg\n",
    "    counterparty_ecdfs[counterparty] = ecdf\n",
    "    \n",
    "    #counterparty_models[counterparty] = {'model':reg, 'ecdf':ecdf}"
   ]
  },
  {
   "cell_type": "code",
   "execution_count": null,
   "id": "9a8ed158-df25-4947-8967-485c8b507f5c",
   "metadata": {},
   "outputs": [],
   "source": [
    "def base_pred_errors_for_counterparty(training, counterparty):\n",
    "    df = training.query(\"Counterparty == @counterparty\").copy()\n",
    "    train_midp = df[['MidPrice']].values.ravel()\n",
    "    train_preds = train_midp\n",
    "    next_midp_pred = train_midp\n",
    "    next_midp_true = df[['NextMidPrice']].values.ravel()\n",
    "    errors = next_midp_pred - next_midp_true\n",
    "    print('RMSE in $ =', np.sqrt(np.mean(np.power(errors, 2))))\n",
    "    ecdf = ECDF(errors)\n",
    "    #plt.hist(errors, bins=50);\n",
    "    \n",
    "    counterparty_ecdfs[counterparty] = ecdf"
   ]
  },
  {
   "cell_type": "code",
   "execution_count": null,
   "id": "8704fe7f-8f35-4c4e-9449-e4ecbc438c34",
   "metadata": {},
   "outputs": [],
   "source": [
    "def get_bond_stdevs(training):\n",
    "    trial_training = add_features(training.copy(deep=True))\n",
    "    trial_training['MidPrice_diff'] = trial_training['NextMidPrice'] - trial_training['MidPrice']\n",
    "    bond_stds = trial_training.groupby(['Bond', 'Notional_cuts'])['MidPrice_diff'].std().reset_index()\n",
    "    return bond_stds"
   ]
  },
  {
   "cell_type": "code",
   "execution_count": null,
   "id": "b0e017fd-4de0-4f80-8b2e-0702246b2f6a",
   "metadata": {},
   "outputs": [],
   "source": [
    "random_forest_for_counterparty(training, test, \"Ctpy_0\")"
   ]
  },
  {
   "cell_type": "code",
   "execution_count": null,
   "id": "aefeb8c9-f3d7-49d3-896f-85a104ac61ae",
   "metadata": {},
   "outputs": [],
   "source": [
    "random_forest_for_counterparty(training, test, \"Ctpy_2\")"
   ]
  },
  {
   "cell_type": "code",
   "execution_count": null,
   "id": "6d4bd43a-3230-402f-be7a-387792f5cd04",
   "metadata": {},
   "outputs": [],
   "source": [
    "base_pred_errors_for_counterparty(training, \"Ctpy_1\")"
   ]
  },
  {
   "cell_type": "code",
   "execution_count": null,
   "id": "b402c9dc-6b8f-4336-8595-3ad70bc6d912",
   "metadata": {},
   "outputs": [],
   "source": [
    "base_pred_errors_for_counterparty(training, \"Ctpy_3\")"
   ]
  },
  {
   "cell_type": "code",
   "execution_count": null,
   "id": "1759236a-c3b6-4688-bc4c-ede04f071dbd",
   "metadata": {},
   "outputs": [],
   "source": [
    "bond_stds = get_bond_stdevs(training)"
   ]
  },
  {
   "cell_type": "code",
   "execution_count": null,
   "id": "c67d78c9-2233-4276-9e1e-2fdb0533f5e2",
   "metadata": {},
   "outputs": [],
   "source": [
    "def get_bond(trade):\n",
    "    if trade.loc['Bond_Bond_0'] == 1:\n",
    "        return 'Bond_0'\n",
    "    if trade.loc['Bond_Bond_1'] == 1:\n",
    "        return 'Bond_1'\n",
    "    if trade.loc['Bond_Bond_2'] == 1:\n",
    "        return 'Bond_2'"
   ]
  },
  {
   "cell_type": "code",
   "execution_count": null,
   "id": "f91f5fa1-8ee5-4aa2-99b6-51d313569e5d",
   "metadata": {},
   "outputs": [],
   "source": [
    "def get_side(trade):\n",
    "    if trade.loc['Side_Bid'] == 1:\n",
    "        return 'Bid'\n",
    "    if trade.loc['Side_Offer'] == 1:\n",
    "        return 'Offer'"
   ]
  },
  {
   "cell_type": "code",
   "execution_count": null,
   "id": "8378ecab-15ea-49b7-9280-22710da3a324",
   "metadata": {},
   "outputs": [],
   "source": [
    "def delta_range(curr_mid, next_mid_pred, sd, notional, side):\n",
    "    higher = next_mid_pred > curr_mid\n",
    "    equal = next_mid_pred == curr_mid\n",
    "    # sd = sd*(notional+1)\n",
    "    if side == \"Offer\":\n",
    "        if higher:\n",
    "            return np.arange(next_mid_pred, next_mid_pred + sd+0.001, 0.01)\n",
    "        elif equal:\n",
    "            return np.arange(next_mid_pred, next_mid_pred + sd+0.001, 0.01)\n",
    "        else:\n",
    "            return np.arange(curr_mid, next_mid_pred+0.001, 0.01)\n",
    "        \n",
    "    if side == \"Bid\":\n",
    "        if higher:\n",
    "            return np.arange(curr_mid, next_mid_pred)\n",
    "        elif equal:\n",
    "            return np.arange(next_mid_pred - sd, next_mid_pred+0.001, 0.01)\n",
    "        else:\n",
    "            return np.arange(next_mid_pred - sd, next_mid_pred+0.001, 0.01)"
   ]
  },
  {
   "cell_type": "code",
   "execution_count": null,
   "id": "c9e37c87-1d06-4174-a394-e6cd53886542",
   "metadata": {},
   "outputs": [],
   "source": [
    "def profit_scenario(side):\n",
    "    if side == \"Offer\":\n",
    "        print('Profit if Quote Price is above Next Mid Price')\n",
    "    elif side == \"Bid\":\n",
    "        print('Profit if Quote Price is below Next Mid Price')"
   ]
  },
  {
   "cell_type": "code",
   "execution_count": null,
   "id": "180c5208-980f-48d3-9fe2-da7b95e3f1a9",
   "metadata": {},
   "outputs": [],
   "source": [
    "def get_quote_price(trade, identifier, counterparty_lambdas):\n",
    "    midp = np.round(trade['MidPrice'], 2)\n",
    "    next_midp_true = np.round(midp*trade['NextMidP'], 2)\n",
    "    trade_rf = trade.drop(index=['NextMidP', 'MidPrice']).values.reshape(1, -1)\n",
    "    \n",
    "    trade_bond = get_bond(trade)\n",
    "    trade_notional = int(trade['Notional_cuts'])\n",
    "    trade_side = get_side(trade)\n",
    "    \n",
    "    print(f\"Trade is for {trade_side} side\")\n",
    "    profit_scenario(trade_side)\n",
    "    \n",
    "    if identifier in counterparty_models.keys():\n",
    "        print('Using model to generate midprice forecast')\n",
    "        pred = counterparty_models[identifier].predict(trade_rf)[0]\n",
    "        next_midp_pred = np.round(midp*pred, 2)\n",
    "    else:\n",
    "        print('Current midprice is estimate of next midprice')\n",
    "        next_midp_pred = np.round(midp, 2)\n",
    "    \n",
    "    print(f\"Current mid price is: {midp}\")\n",
    "    print(f\"Predicted next mid price is: {next_midp_pred} and actual next mid price is: {next_midp_true}\")\n",
    "    \n",
    "    \n",
    "        \n",
    "    sd = bond_stds.query(\"Bond == @trade_bond and Notional_cuts == @trade_notional\").iloc[0]['MidPrice_diff']\n",
    "    \n",
    "    deltas = delta_range(midp, next_midp_pred, sd, trade_notional, trade_side)\n",
    "    \n",
    "    deltas_df = pd.DataFrame(deltas, columns=['Quotes'])\n",
    "    deltas_df['Competitors'] = trade['Competitors']\n",
    "    deltas_df['Notional_cuts'] = trade['Notional_cuts']\n",
    "    deltas_df['Side_Bid'] = trade['Side_Bid']\n",
    "    deltas_df['Side_Offer'] = trade['Side_Offer']\n",
    "    deltas_df['quote_diff'] = (deltas_df['Quotes'] - midp)\n",
    "    \n",
    "    if trade_side == 'Offer':\n",
    "        deltas_df['p_neg'] = counterparty_ecdfs[identifier](next_midp_pred - deltas_df['Quotes'])\n",
    "    if trade_side == 'Bid':\n",
    "        deltas_df['p_neg'] = 1 - counterparty_ecdfs[identifier](next_midp_pred - deltas_df['Quotes'])\n",
    "    \n",
    "    deltas_df['p_pos'] = 1 - deltas_df['p_neg']\n",
    "    \n",
    "    deltas_df['p_win'] = ABRmodel.predict_proba(deltas_df.drop(columns=['Quotes', 'p_neg', 'p_pos']).values)[:, 1]\n",
    "    \n",
    "    lambd = counterparty_lambdas[identifier]\n",
    "    deltas_df['objective_func'] = deltas_df['p_win']*deltas_df['p_pos'] - lambd*(deltas_df['p_win']*deltas_df['p_neg'])\n",
    "    \n",
    "    if trade_side == \"Offer\":\n",
    "        deltas_df = deltas_df[::-1].reset_index(drop=True)\n",
    "    deltas_df['rate_of_change'] = (deltas_df['objective_func']/deltas_df['objective_func'].shift(-1)).fillna(0)\n",
    "                                                                                    \n",
    "    # find point where \"utility starts diminishing\n",
    "    best_quote = np.round(deltas_df.iloc[deltas_df['rate_of_change'].idxmax()-1]['Quotes'], 2)\n",
    "    print(f\"Best Quote price is: {best_quote}\")\n",
    "    \n",
    "    return deltas_df, (math.floor(best_quote*100)/100)"
   ]
  },
  {
   "cell_type": "code",
   "execution_count": null,
   "id": "97c36ea1-c6c6-4b16-8a5a-59b9de35935b",
   "metadata": {},
   "outputs": [],
   "source": [
    "trial_test = test.copy(deep=True)\n",
    "trial_test = add_features_rf(trial_test)\n",
    "trial_trade0 = trial_test.loc[995, :]\n",
    "trial_trade1 = trial_test.loc[996, :]\n",
    "trial_trade2 = trial_test.loc[990, :]\n",
    "trial_trade3 = trial_test.loc[997, :]"
   ]
  },
  {
   "cell_type": "code",
   "execution_count": null,
   "id": "812332fd-73aa-4bb2-926b-ab5bc60cc791",
   "metadata": {},
   "outputs": [],
   "source": [
    "trial_trade3"
   ]
  },
  {
   "cell_type": "code",
   "execution_count": null,
   "id": "8dbf1beb-d0fd-4035-b724-be84f1db89f4",
   "metadata": {},
   "outputs": [],
   "source": [
    "test.loc[995, :]"
   ]
  },
  {
   "cell_type": "code",
   "execution_count": null,
   "id": "4cc0d9ad-4e7a-4713-ac14-f3fd076b34c8",
   "metadata": {},
   "outputs": [],
   "source": [
    "counterparty_lambdas = {'Ctpy_0': 0, 'Ctpy_1': 0, 'Ctpy_2': 0, 'Ctpy_3': 0}"
   ]
  },
  {
   "cell_type": "code",
   "execution_count": null,
   "id": "6023d8fb-7f47-448f-aa98-46c94e791b60",
   "metadata": {},
   "outputs": [],
   "source": [
    "delta_df, best_q = get_quote_price(trial_trade0.drop(index='Counterparty'), \n",
    "                                   trial_trade0.loc['Counterparty'], counterparty_lambdas)"
   ]
  },
  {
   "cell_type": "code",
   "execution_count": null,
   "id": "7665e214-5402-48e3-8c4c-5eb238fcadad",
   "metadata": {},
   "outputs": [],
   "source": [
    "delta_df"
   ]
  },
  {
   "cell_type": "code",
   "execution_count": null,
   "id": "f096a091-b393-4edf-a731-d81a4120cb43",
   "metadata": {},
   "outputs": [],
   "source": [
    "delta_df1, best_q1 = get_quote_price(trial_trade1.drop(index='Counterparty'), \n",
    "                                   trial_trade1.loc['Counterparty'], counterparty_lambdas)"
   ]
  },
  {
   "cell_type": "code",
   "execution_count": null,
   "id": "d8b6a158-64b0-463e-9b30-cac430d053ce",
   "metadata": {},
   "outputs": [],
   "source": [
    "delta_df1"
   ]
  },
  {
   "cell_type": "code",
   "execution_count": null,
   "id": "af414b99-e494-4eda-93fc-98d6f647c1f9",
   "metadata": {},
   "outputs": [],
   "source": [
    "delta_df2, best_q2 = get_quote_price(trial_trade2.drop(index='Counterparty'), \n",
    "                                   trial_trade2.loc['Counterparty'], counterparty_lambdas)"
   ]
  },
  {
   "cell_type": "code",
   "execution_count": null,
   "id": "69afeb06-4c03-4965-9b1e-07f0063e190b",
   "metadata": {},
   "outputs": [],
   "source": [
    "delta_df2"
   ]
  },
  {
   "cell_type": "code",
   "execution_count": null,
   "id": "99d0145c-1a4a-455a-959f-f46e8a9a7e9c",
   "metadata": {},
   "outputs": [],
   "source": [
    "delta_df3, best_q3 = get_quote_price(trial_trade3.drop(index='Counterparty'), \n",
    "                                   trial_trade3.loc['Counterparty'], counterparty_lambdas)"
   ]
  },
  {
   "cell_type": "code",
   "execution_count": null,
   "id": "706c9936-e06f-4fc3-b91d-0d3a57de3a6d",
   "metadata": {},
   "outputs": [],
   "source": [
    "delta_df3"
   ]
  },
  {
   "cell_type": "code",
   "execution_count": null,
   "id": "52ef2aaf-9339-4831-a7ca-b4651c45c7ec",
   "metadata": {},
   "outputs": [],
   "source": []
  },
  {
   "cell_type": "markdown",
   "id": "ab6ddc12-3214-4abf-983d-8f22f247c74c",
   "metadata": {},
   "source": [
    "### Random Analysis"
   ]
  },
  {
   "cell_type": "code",
   "execution_count": null,
   "id": "15272aed-394f-4ba8-ad99-ca9de8b3e8ee",
   "metadata": {},
   "outputs": [],
   "source": [
    "df_analysis = training.query(\"Counterparty == 'Ctpy_1'\").copy()\n",
    "df_analysis = add_features(df_analysis)\n",
    "train_midp = df_analysis[['MidPrice']].values.ravel()\n",
    "train_preds = train_midp\n",
    "next_midp_pred = train_midp\n",
    "next_midp_true = df_analysis[['NextMidPrice']].values.ravel()\n",
    "errors = next_midp_pred - next_midp_true\n",
    "plt.hist(errors, bins=50);"
   ]
  },
  {
   "cell_type": "code",
   "execution_count": null,
   "id": "c0233084-8556-46c6-bd57-7c6855e005cc",
   "metadata": {},
   "outputs": [],
   "source": [
    "df_analysis = training.query(\"Counterparty == 'Ctpy_3'\").copy()\n",
    "df_analysis = add_features(df_analysis)"
   ]
  },
  {
   "cell_type": "code",
   "execution_count": null,
   "id": "e6e4679b-38d8-4a6b-a154-1f6d57016f53",
   "metadata": {},
   "outputs": [],
   "source": [
    "train_midp = df_analysis[['MidPrice']].values.ravel()\n",
    "train_preds = train_midp\n",
    "next_midp_pred = train_midp\n",
    "next_midp_true = df_analysis[['NextMidPrice']].values.ravel()\n",
    "errors = next_midp_pred - next_midp_true"
   ]
  },
  {
   "cell_type": "code",
   "execution_count": null,
   "id": "db01065c-611b-4862-a757-2e84c0e77795",
   "metadata": {},
   "outputs": [],
   "source": [
    "plt.hist(errors, bins=50);"
   ]
  },
  {
   "cell_type": "code",
   "execution_count": null,
   "id": "a4bea879-0e0a-447b-bcbf-18b661362763",
   "metadata": {},
   "outputs": [],
   "source": [
    "side_dict = {'Offer':1, 'Bid':-1}\n",
    "traded_dict = {'DONE':1, 'MISSED':np.nan}\n",
    "target_mapping = {'MISSED': 0, 'DONE': 1}"
   ]
  },
  {
   "cell_type": "code",
   "execution_count": null,
   "id": "42a22fba-700b-4943-9d5e-ddbb5dcc2e4d",
   "metadata": {},
   "outputs": [],
   "source": [
    "df_analysis['side_tag'] = 1*(df_analysis['Side'] == 'Offer') + -1*(df_analysis['Side'] == 'Bid')\n",
    "df_analysis['traded_tag'] = 1*(df_analysis['Traded'] == 1) + 0*(df_analysis['Traded'] == 0)\n",
    "df_analysis.loc[df_analysis['traded_tag'] == 0,'traded_tag'] = np.nan\n",
    "df_analysis['profit'] = (df_analysis['QuotedPrice'] - df_analysis['NextMidPrice'])*df_analysis['side_tag']*df_analysis['traded_tag']\n",
    "df_analysis['profit'] = (df_analysis['QuotedPrice'] - df_analysis['NextMidPrice'])*df_analysis['side_tag']*df_analysis['traded_tag']"
   ]
  },
  {
   "cell_type": "code",
   "execution_count": null,
   "id": "10061660-8f74-481a-bedf-127bf8ac9c31",
   "metadata": {},
   "outputs": [],
   "source": [
    "df_analysis.groupby(['Bond', 'Notional_cuts'])['profit'].describe().reset_index()"
   ]
  },
  {
   "cell_type": "code",
   "execution_count": null,
   "id": "af182a51-3887-4f60-95c6-a68c02efd621",
   "metadata": {},
   "outputs": [],
   "source": [
    "df_analysis['MidP_diff'] = df_analysis['NextMidPrice']/df_analysis['MidPrice'] - 1\n",
    "df_analysis['Quote_diff'] = df_analysis['QuotedPrice']/df_analysis['MidPrice'] - 1\n",
    "df_analysis['Abs_MidP_diff'] = np.abs(df_analysis['NextMidPrice']/df_analysis['MidPrice'] - 1)\n",
    "df_analysis['log_notional'] = np.log(df_analysis['Notional'])"
   ]
  },
  {
   "cell_type": "code",
   "execution_count": null,
   "id": "6479bb38-c8eb-45a8-9f87-daeca1d641a4",
   "metadata": {},
   "outputs": [],
   "source": [
    "plt.figure(figsize=(12, 8))\n",
    "sns.scatterplot(x='Quote_diff',y='log_notional', data=df_analysis[df_analysis['Side'] == 'Offer'], hue='Traded')\n",
    "plt.show()"
   ]
  },
  {
   "cell_type": "code",
   "execution_count": null,
   "id": "a06c394d-6d3c-41a5-bb4b-f8fa96062f9d",
   "metadata": {},
   "outputs": [],
   "source": []
  }
 ],
 "metadata": {
  "kernelspec": {
   "display_name": "Python 3 (ipykernel)",
   "language": "python",
   "name": "python3"
  },
  "language_info": {
   "codemirror_mode": {
    "name": "ipython",
    "version": 3
   },
   "file_extension": ".py",
   "mimetype": "text/x-python",
   "name": "python",
   "nbconvert_exporter": "python",
   "pygments_lexer": "ipython3",
   "version": "3.10.7"
  }
 },
 "nbformat": 4,
 "nbformat_minor": 5
}
