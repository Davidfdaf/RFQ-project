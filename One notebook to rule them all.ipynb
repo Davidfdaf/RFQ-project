{
 "cells": [
  {
   "cell_type": "code",
   "execution_count": 1,
   "id": "2a659b8d-7543-4160-9d97-4b76217e6694",
   "metadata": {},
   "outputs": [],
   "source": [
    "import pandas as pd\n",
    "import numpy as np\n",
    "import sys, math, os, json, re, random\n",
    "import scipy.stats as stats\n",
    "import matplotlib.pyplot as plt\n",
    "import seaborn as sns\n",
    "import datetime as dt\n",
    "\n",
    "from sklearn.metrics import accuracy_score\n",
    "from sklearn.metrics import log_loss\n",
    "from sklearn.metrics import mean_absolute_error\n",
    "\n",
    "\n",
    "\n",
    "from sklearn.ensemble import RandomForestClassifier\n",
    "from sklearn.ensemble import RandomForestRegressor\n",
    "from sklearn.model_selection import GridSearchCV\n",
    "\n",
    "# jupyter magic to display plots directly in the notebook\n",
    "%matplotlib inline\n",
    "\n",
    "# use vector graphics format for nicer plots\n",
    "%config Inline.Backend.figure_format = 'svg'\n",
    "\n",
    "%config Completer.use_jedi = False\n",
    "\n",
    "%load_ext autoreload\n",
    "%autoreload 2"
   ]
  },
  {
   "cell_type": "code",
   "execution_count": 2,
   "id": "8e0a1453-481f-4ffd-9081-a59e850d472d",
   "metadata": {},
   "outputs": [],
   "source": [
    "DATA = 'data/RfqData.xlsx'\n",
    "sheets = pd.ExcelFile(DATA).sheet_names"
   ]
  },
  {
   "cell_type": "code",
   "execution_count": 3,
   "id": "6208599f-9f4c-457e-a90d-8f308a0a8ff0",
   "metadata": {},
   "outputs": [],
   "source": [
    "def add_features(df):\n",
    "    df['quote_diff'] = (df['QuotedPrice']/df['MidPrice'])\n",
    "    df['NextMid_diff'] = (df['NextMidPrice']/df['MidPrice'])\n",
    "    df['Traded'] = df['Traded'].map(target_mapping)\n",
    "    df['Notional_cuts'] = pd.cut(df['Notional'], [0, 100000, 1000000, 10000000, 50000000], labels=[0, 1, 2, 3], include_lowest=True, right=True)\n",
    "    \n",
    "    cols = ['Side','Counterparty','Bond']\n",
    "    \n",
    "    for col in cols:\n",
    "        one_hot_encode = pd.get_dummies(df[col])\n",
    "        df = df.join(one_hot_encode)\n",
    "        \n",
    "    df['Counterparty'] = df['Counterparty'].apply(lambda x: int(x[-1:]))\n",
    "    df['Bond'] = df['Bond'].apply(lambda x: int(x[-1:]))\n",
    "    df['Side'] = df['Side'].map({'Offer':0,'Bid':1})\n",
    "    \n",
    "    cols_to_drop = ['Time'] + ['Notional', 'QuotedPrice', 'NextMidPrice']\n",
    "    \n",
    "    return df.drop(columns=cols_to_drop)\n",
    "\n",
    "\n",
    "training = pd.read_excel(DATA, sheet_name=sheets[0])\n",
    "test = pd.read_excel(DATA, sheet_name=sheets[1])\n",
    "competition = pd.read_excel(DATA, sheet_name=sheets[2])\n",
    "\n",
    "target_mapping = {'MISSED': 0, 'DONE': 1}\n",
    "\n",
    "def prep_data_regression():# extract input and target\n",
    "    to_drop = ['NextMid_diff','Bond','Counterparty','MidPrice',\\\n",
    "               'Notional_cuts','quote_diff','Competitors','Side']\n",
    "    columns = training.drop(columns=to_drop).columns\n",
    "    X_train = training.drop(columns=to_drop).values\n",
    "    \n",
    "    y_train = training[['NextMid_diff']].values.ravel()\n",
    "    X_test = test.drop(columns=to_drop).values\n",
    "    y_test = test[['NextMid_diff']].values.ravel()\n",
    "    return columns, X_train, y_train, X_test, y_test\n",
    "\n",
    "\n",
    "def prep_data_classifier():# extract input and target\n",
    "    to_drop = ['NextMid_diff','Bond','Counterparty','MidPrice','Side',\\\n",
    "               'Ctpy_0', 'Ctpy_1', 'Ctpy_2', 'Ctpy_3',\\\n",
    "              'Bond_0', 'Bond_1', 'Bond_2','Traded']\n",
    "    columns = training.drop(columns=to_drop).columns\n",
    "    X_train = training.drop(columns=to_drop).values\n",
    "    \n",
    "    y_train = training[['Traded']].values.ravel()\n",
    "    columns_test = test.drop(columns=to_drop).columns\n",
    "    X_test = test.drop(columns=to_drop).values\n",
    "    y_test = test[['Traded']].values.ravel()\n",
    "    return columns, columns_test, X_train, y_train, X_test, y_test\n",
    "    \n",
    "training = add_features(training)\n",
    "test = add_features(test)"
   ]
  },
  {
   "cell_type": "markdown",
   "id": "fbd108ac-5a8a-437c-97eb-3008d189caf7",
   "metadata": {},
   "source": [
    "### next mid price prediction"
   ]
  },
  {
   "cell_type": "code",
   "execution_count": 4,
   "id": "2a9c0a54-1b38-40aa-8348-bdfbe11b12c2",
   "metadata": {},
   "outputs": [
    {
     "data": {
      "text/plain": [
       "Index(['Traded', 'Bid', 'Offer', 'Ctpy_0', 'Ctpy_1', 'Ctpy_2', 'Ctpy_3',\n",
       "       'Bond_0', 'Bond_1', 'Bond_2'],\n",
       "      dtype='object')"
      ]
     },
     "execution_count": 4,
     "metadata": {},
     "output_type": "execute_result"
    }
   ],
   "source": [
    "columns, X_train, y_train, X_test, y_test = prep_data_regression()\n",
    "columns"
   ]
  },
  {
   "cell_type": "code",
   "execution_count": 5,
   "id": "e3b1fbf1-a1c8-4984-82d0-afa70ec396ee",
   "metadata": {},
   "outputs": [
    {
     "name": "stdout",
     "output_type": "stream",
     "text": [
      "Train: abs error = 0.0007939693745342977\n",
      "Test : abs error = 0.0008710923595845926\n",
      "sign error: 0.373\n",
      "estimation error for any single point prediction: 0.05251795850516172\n"
     ]
    }
   ],
   "source": [
    "RFmodel = RandomForestRegressor(min_samples_split=100,oob_score=True)\n",
    "RFmodel.fit(X_train, y_train)\n",
    "\n",
    "# evaluate performance\n",
    "abs_error_train = mean_absolute_error(y_train, RFmodel.predict(X_train))\n",
    "abs_error_test = mean_absolute_error(y_test, RFmodel.predict(X_test))\n",
    "y_pred = RFmodel.predict(X_test)\n",
    "test_se = (np.sign(y_pred - np.ones(len(y_pred))) != np.sign(y_test - np.ones(len(y_pred)))).sum()/len(y_test)\n",
    "\n",
    "info_train = f'Train: abs error = {abs_error_train}'\n",
    "info_test = f'Test : abs error = {abs_error_test}'\n",
    "print(info_train)\n",
    "print(info_test)\n",
    "print('sign error:', test_se)\n",
    "print('estimation error for any single point prediction:',RFmodel.oob_score_)"
   ]
  },
  {
   "cell_type": "code",
   "execution_count": 6,
   "id": "52303ceb-3ef0-467e-81fe-6ce34773c94e",
   "metadata": {},
   "outputs": [],
   "source": [
    "regressor_test = test.copy(deep=True)"
   ]
  },
  {
   "cell_type": "code",
   "execution_count": 7,
   "id": "c2d24ce2-7ee9-4e2c-89d1-7817cf00022d",
   "metadata": {},
   "outputs": [],
   "source": [
    "regressor_test['error'] = (y_pred-y_test)*test['MidPrice'].to_numpy()\n",
    "regressor_test['sign error'] = np.sign(y_pred - np.ones(len(y_pred)))>0"
   ]
  },
  {
   "cell_type": "code",
   "execution_count": 8,
   "id": "9742d8e1-e96f-4af3-b1e6-a016cabf9a4a",
   "metadata": {},
   "outputs": [
    {
     "data": {
      "text/plain": [
       "Counterparty\n",
       "0   -0.007725\n",
       "1   -0.004056\n",
       "2   -0.018843\n",
       "3    0.004355\n",
       "Name: error, dtype: float64"
      ]
     },
     "execution_count": 8,
     "metadata": {},
     "output_type": "execute_result"
    }
   ],
   "source": [
    "regressor_test.groupby(['Counterparty']).mean()['error']"
   ]
  },
  {
   "cell_type": "code",
   "execution_count": 9,
   "id": "ec151b6b-a1c1-4cc1-a920-ad8d1fe2ab33",
   "metadata": {},
   "outputs": [
    {
     "data": {
      "text/plain": [
       "Bond\n",
       "0   -0.002975\n",
       "1    0.011068\n",
       "2   -0.003779\n",
       "Name: error, dtype: float64"
      ]
     },
     "execution_count": 9,
     "metadata": {},
     "output_type": "execute_result"
    }
   ],
   "source": [
    "regressor_test.groupby(['Bond']).mean()['error']"
   ]
  },
  {
   "cell_type": "code",
   "execution_count": 10,
   "id": "12fe3169-bfe3-4538-be6f-ab489768ce5d",
   "metadata": {},
   "outputs": [
    {
     "data": {
      "text/plain": [
       "Bond\n",
       "0    0.338115\n",
       "1    0.561224\n",
       "2    0.425121\n",
       "Name: sign error, dtype: float64"
      ]
     },
     "execution_count": 10,
     "metadata": {},
     "output_type": "execute_result"
    }
   ],
   "source": [
    "regressor_test.groupby(['Bond']).mean()['sign error']"
   ]
  },
  {
   "cell_type": "markdown",
   "id": "33b9e46b-6a7f-450f-8a89-aee8cca68cf7",
   "metadata": {},
   "source": [
    "### Notes: Our estimation error when predicting the price of bond 1 is 10x bond 0 or 2. Our prediction error against counterparty 2 is 1/10 the error against the counter parties. our sign error when predicting the next price for counterparty 0 is much better than against counterparty 1 and 2"
   ]
  },
  {
   "cell_type": "markdown",
   "id": "0c412087-60e2-4e02-93db-d236ede0d5d9",
   "metadata": {},
   "source": [
    "### Trade Classification "
   ]
  },
  {
   "cell_type": "code",
   "execution_count": 11,
   "id": "47b2534e-9203-44d7-b169-a4f8dd4b6af9",
   "metadata": {},
   "outputs": [
    {
     "data": {
      "text/plain": [
       "Index(['Competitors', 'quote_diff', 'Notional_cuts', 'Bid', 'Offer'], dtype='object')"
      ]
     },
     "execution_count": 11,
     "metadata": {},
     "output_type": "execute_result"
    }
   ],
   "source": [
    "columns, columns_test, X_train, y_train, X_test, y_test = prep_data_classifier()\n",
    "columns"
   ]
  },
  {
   "cell_type": "code",
   "execution_count": 15,
   "id": "64bae5cc-f31d-4b21-98ac-1fc7d88a7b77",
   "metadata": {},
   "outputs": [
    {
     "name": "stdout",
     "output_type": "stream",
     "text": [
      "Train: Log-loss = 0.31716923926820256, accuracy = 86.4200 %\n",
      "Test: Log-loss = 0.3549980555536589, accuracy = 85.7000 %\n",
      "estimation error for any single point prediction: 0.856\n"
     ]
    }
   ],
   "source": [
    "RFmodel = RandomForestClassifier(min_samples_split=100,oob_score=True)\n",
    "RFmodel.fit(X_train, y_train)\n",
    "\n",
    "# evaluate performance\n",
    "log_loss_train = log_loss(y_train, RFmodel.predict_proba(X_train))\n",
    "log_loss_test = log_loss(y_test, RFmodel.predict_proba(X_test))\n",
    "accuracy_train = accuracy_score(y_train, RFmodel.predict(X_train))\n",
    "accuracy_test = accuracy_score(y_test, RFmodel.predict(X_test))\n",
    "\n",
    "info_train = f'Train: Log-loss = {log_loss_train}, accuracy = {100*accuracy_train:.4f} %'\n",
    "info_test = f'Test: Log-loss = {log_loss_test}, accuracy = {100*accuracy_test:.4f} %'\n",
    "print(info_train)\n",
    "print(info_test)\n",
    "print('estimation error for any single point prediction:',RFmodel.oob_score_)"
   ]
  },
  {
   "cell_type": "code",
   "execution_count": null,
   "id": "a312fca8-44e2-4084-9f57-2c3500dda2ce",
   "metadata": {},
   "outputs": [],
   "source": []
  },
  {
   "cell_type": "code",
   "execution_count": null,
   "id": "be9a3ab8-9ece-40a5-b3d2-6811b7cbb68c",
   "metadata": {},
   "outputs": [],
   "source": []
  }
 ],
 "metadata": {
  "kernelspec": {
   "display_name": "tfenv",
   "language": "python",
   "name": "tfenv"
  },
  "language_info": {
   "codemirror_mode": {
    "name": "ipython",
    "version": 3
   },
   "file_extension": ".py",
   "mimetype": "text/x-python",
   "name": "python",
   "nbconvert_exporter": "python",
   "pygments_lexer": "ipython3",
   "version": "3.8.10"
  }
 },
 "nbformat": 4,
 "nbformat_minor": 5
}
