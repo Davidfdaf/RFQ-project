{
 "cells": [
  {
   "cell_type": "code",
   "execution_count": 256,
   "id": "2a659b8d-7543-4160-9d97-4b76217e6694",
   "metadata": {},
   "outputs": [
    {
     "name": "stdout",
     "output_type": "stream",
     "text": [
      "The autoreload extension is already loaded. To reload it, use:\n",
      "  %reload_ext autoreload\n"
     ]
    }
   ],
   "source": [
    "import pandas as pd\n",
    "import numpy as np\n",
    "import sys, math, os, json, re, random\n",
    "import scipy.stats as stats\n",
    "import matplotlib.pyplot as plt\n",
    "import seaborn as sns\n",
    "import datetime as dt\n",
    "\n",
    "from sklearn.metrics import accuracy_score\n",
    "from sklearn.metrics import log_loss\n",
    "from sklearn.metrics import mean_absolute_error\n",
    "\n",
    "from functions import *\n",
    "\n",
    "from sklearn.ensemble import RandomForestClassifier\n",
    "from sklearn.ensemble import RandomForestRegressor\n",
    "from sklearn.model_selection import GridSearchCV\n",
    "\n",
    "# jupyter magic to display plots directly in the notebook\n",
    "%matplotlib inline\n",
    "\n",
    "# use vector graphics format for nicer plots\n",
    "%config Inline.Backend.figure_format = 'svg'\n",
    "\n",
    "%config Completer.use_jedi = False\n",
    "\n",
    "%load_ext autoreload\n",
    "%autoreload 2"
   ]
  },
  {
   "cell_type": "code",
   "execution_count": 257,
   "id": "8e0a1453-481f-4ffd-9081-a59e850d472d",
   "metadata": {},
   "outputs": [],
   "source": [
    "DATA = 'data/RfqData.xlsx'\n",
    "sheets = pd.ExcelFile(DATA).sheet_names"
   ]
  },
  {
   "cell_type": "code",
   "execution_count": 258,
   "id": "6208599f-9f4c-457e-a90d-8f308a0a8ff0",
   "metadata": {},
   "outputs": [],
   "source": [
    "def add_features(df):\n",
    "    df['quote_diff'] = (df['QuotedPrice']/df['MidPrice'])\n",
    "    df['NextMid_diff'] = (df['NextMidPrice']/df['MidPrice'])\n",
    "    df['Traded'] = df['Traded'].map(target_mapping)\n",
    "    df['Notional_cuts'] = pd.cut(df['Notional'], [0, 100000, 1000000, 10000000, 50000000], labels=[0, 1, 2, 3], include_lowest=True, right=True)\n",
    "    \n",
    "    cols = ['Side','Counterparty','Bond']\n",
    "    \n",
    "    for col in cols:\n",
    "        one_hot_encode = pd.get_dummies(df[col])\n",
    "        df = df.join(one_hot_encode)\n",
    "        \n",
    "    df['Counterparty'] = df['Counterparty'].apply(lambda x: int(x[-1:]))\n",
    "    df['Bond'] = df['Bond'].apply(lambda x: int(x[-1:]))\n",
    "    df['Side'] = df['Side'].map({'Offer':-1,'Bid':1})\n",
    "    \n",
    "    df['PnL']=(((df['NextMidPrice']-df['QuotedPrice'])>=0).astype(int)*2-1)*df['Side']\n",
    "    \n",
    "    cols_to_drop = ['Time'] + ['Notional', 'QuotedPrice', 'NextMidPrice']\n",
    "    \n",
    "    return df.drop(columns=cols_to_drop)\n",
    "\n",
    "\n",
    "training = pd.read_excel(DATA, sheet_name=sheets[0])\n",
    "test = pd.read_excel(DATA, sheet_name=sheets[1])\n",
    "competition = pd.read_excel(DATA, sheet_name=sheets[2])\n",
    "\n",
    "target_mapping = {'MISSED': 0, 'DONE': 1}\n",
    "\n",
    "def prep_data_regression(train,test):# extract input and target\n",
    "    to_drop = ['NextMid_diff','Bond','Counterparty','MidPrice',\\\n",
    "               'Notional_cuts','quote_diff','Competitors','Side','PnL']\n",
    "    columns = training.drop(columns=to_drop).columns\n",
    "    X_train = training.drop(columns=to_drop).values\n",
    "    \n",
    "    y_train = training[['NextMid_diff']].values.ravel()\n",
    "    X_test = test.drop(columns=to_drop).values\n",
    "    y_test = test[['NextMid_diff']].values.ravel()\n",
    "    return columns, X_train, y_train, X_test, y_test\n",
    "\n",
    "\n",
    "def prep_data_classifier(train,test,y_value):# extract input and target\n",
    "    to_drop = ['NextMid_diff','Bond','Counterparty','MidPrice','Side',\\\n",
    "               'Ctpy_0', 'Ctpy_1', 'Ctpy_2', 'Ctpy_3',\\\n",
    "              'Bond_0', 'Bond_1', 'Bond_2','Traded','PnL']\n",
    "    columns = training.drop(columns=to_drop).columns\n",
    "    X_train = training.drop(columns=to_drop).values  \n",
    "    y_train = training[[y_value]].values.ravel()\n",
    "    \n",
    "    columns_test = test.drop(columns=to_drop).columns\n",
    "    X_test = test.drop(columns=to_drop).values\n",
    "    y_test = test[[y_value]].values.ravel()\n",
    "    return columns, columns_test, X_train, y_train, X_test, y_test\n",
    "\n",
    "# training=add_features(training[training['Counterparty']=='Ctpy_0'])\n",
    "# test=add_features(test[test['Counterparty']=='Ctpy_0'])"
   ]
  },
  {
   "cell_type": "code",
   "execution_count": 259,
   "id": "d5d638f5-6c66-4693-a937-a5f0fdb51c43",
   "metadata": {},
   "outputs": [],
   "source": [
    "training = add_features(training)\n",
    "test = add_features(test)"
   ]
  },
  {
   "cell_type": "markdown",
   "id": "fbd108ac-5a8a-437c-97eb-3008d189caf7",
   "metadata": {},
   "source": [
    "### next mid price prediction"
   ]
  },
  {
   "cell_type": "code",
   "execution_count": 260,
   "id": "2a9c0a54-1b38-40aa-8348-bdfbe11b12c2",
   "metadata": {},
   "outputs": [
    {
     "ename": "TypeError",
     "evalue": "prep_data_regression() missing 2 required positional arguments: 'train' and 'test'",
     "output_type": "error",
     "traceback": [
      "\u001b[0;31m---------------------------------------------------------------------------\u001b[0m",
      "\u001b[0;31mTypeError\u001b[0m                                 Traceback (most recent call last)",
      "Cell \u001b[0;32mIn [260], line 1\u001b[0m\n\u001b[0;32m----> 1\u001b[0m columns_m, X_train_m, y_train_m, X_test_m, y_test_m \u001b[38;5;241m=\u001b[39m \u001b[43mprep_data_regression\u001b[49m\u001b[43m(\u001b[49m\u001b[43m)\u001b[49m\n\u001b[1;32m      2\u001b[0m columns_m\n",
      "\u001b[0;31mTypeError\u001b[0m: prep_data_regression() missing 2 required positional arguments: 'train' and 'test'"
     ]
    }
   ],
   "source": [
    "columns_m, X_train_m, y_train_m, X_test_m, y_test_m = prep_data_regression()\n",
    "columns_m"
   ]
  },
  {
   "cell_type": "code",
   "execution_count": 261,
   "id": "e3b1fbf1-a1c8-4984-82d0-afa70ec396ee",
   "metadata": {},
   "outputs": [
    {
     "name": "stdout",
     "output_type": "stream",
     "text": [
      "Train: abs error = 0.0007938657042792581\n",
      "Test : abs error = 0.0008708858483890167\n",
      "sign error: 0.373\n",
      "estimation error for any single point prediction: 0.05223879142232901\n"
     ]
    }
   ],
   "source": [
    "RFmodel_r = RandomForestRegressor(min_samples_split=100,oob_score=True)\n",
    "RFmodel_r.fit(X_train_m, y_train_m)\n",
    "\n",
    "# evaluate performance\n",
    "abs_error_train = mean_absolute_error(y_train_m, RFmodel_r.predict(X_train_m))\n",
    "abs_error_test = mean_absolute_error(y_test_m, RFmodel_r.predict(X_test_m))\n",
    "y_pred = RFmodel_r.predict(X_test_m)\n",
    "test_se = (np.sign(y_pred - np.ones(len(y_pred))) != np.sign(y_test_m - np.ones(len(y_pred)))).sum()/len(y_test_m)\n",
    "\n",
    "info_train = f'Train: abs error = {abs_error_train}'\n",
    "info_test = f'Test : abs error = {abs_error_test}'\n",
    "print(info_train)\n",
    "print(info_test)\n",
    "print('sign error:', test_se)\n",
    "print('estimation error for any single point prediction:',RFmodel_r.oob_score_)"
   ]
  },
  {
   "cell_type": "code",
   "execution_count": 262,
   "id": "8bb5f5ad-2c54-48ff-8798-1c32d5293589",
   "metadata": {},
   "outputs": [],
   "source": [
    "Next_mid_price = y_pred*test['MidPrice']"
   ]
  },
  {
   "cell_type": "code",
   "execution_count": 263,
   "id": "52303ceb-3ef0-467e-81fe-6ce34773c94e",
   "metadata": {},
   "outputs": [],
   "source": [
    "regressor_test = test.copy(deep=True)"
   ]
  },
  {
   "cell_type": "code",
   "execution_count": 264,
   "id": "c2d24ce2-7ee9-4e2c-89d1-7817cf00022d",
   "metadata": {},
   "outputs": [],
   "source": [
    "regressor_test['error'] = (y_pred-y_test_m)*test['MidPrice'].to_numpy()\n",
    "regressor_test['sign error'] = np.sign(y_pred - np.ones(len(y_pred)))>0"
   ]
  },
  {
   "cell_type": "code",
   "execution_count": 265,
   "id": "9742d8e1-e96f-4af3-b1e6-a016cabf9a4a",
   "metadata": {},
   "outputs": [
    {
     "data": {
      "text/plain": [
       "Counterparty\n",
       "0   -0.007745\n",
       "1   -0.004035\n",
       "2   -0.019968\n",
       "3    0.004220\n",
       "Name: error, dtype: float64"
      ]
     },
     "execution_count": 265,
     "metadata": {},
     "output_type": "execute_result"
    }
   ],
   "source": [
    "regressor_test.groupby(['Counterparty']).mean()['error']"
   ]
  },
  {
   "cell_type": "code",
   "execution_count": 266,
   "id": "e40f661a-02c9-4f3b-b5a0-5cc4c86d589d",
   "metadata": {},
   "outputs": [
    {
     "data": {
      "text/plain": [
       "Counterparty\n",
       "0    0.473404\n",
       "1    0.182609\n",
       "2    0.354167\n",
       "3    0.541766\n",
       "Name: sign error, dtype: float64"
      ]
     },
     "execution_count": 266,
     "metadata": {},
     "output_type": "execute_result"
    }
   ],
   "source": [
    "regressor_test.groupby(['Counterparty']).mean()['sign error']"
   ]
  },
  {
   "cell_type": "code",
   "execution_count": 267,
   "id": "ec151b6b-a1c1-4cc1-a920-ad8d1fe2ab33",
   "metadata": {},
   "outputs": [
    {
     "data": {
      "text/plain": [
       "Bond\n",
       "0   -0.003279\n",
       "1    0.012064\n",
       "2   -0.003915\n",
       "Name: error, dtype: float64"
      ]
     },
     "execution_count": 267,
     "metadata": {},
     "output_type": "execute_result"
    }
   ],
   "source": [
    "regressor_test.groupby(['Bond']).mean()['error']"
   ]
  },
  {
   "cell_type": "code",
   "execution_count": 268,
   "id": "12fe3169-bfe3-4538-be6f-ab489768ce5d",
   "metadata": {},
   "outputs": [
    {
     "data": {
      "text/plain": [
       "Bond\n",
       "0    0.338115\n",
       "1    0.561224\n",
       "2    0.425121\n",
       "Name: sign error, dtype: float64"
      ]
     },
     "execution_count": 268,
     "metadata": {},
     "output_type": "execute_result"
    }
   ],
   "source": [
    "regressor_test.groupby(['Bond']).mean()['sign error']"
   ]
  },
  {
   "cell_type": "markdown",
   "id": "33b9e46b-6a7f-450f-8a89-aee8cca68cf7",
   "metadata": {},
   "source": [
    "### Notes: Our estimation error when predicting the price of bond 1 is 10x bond 0 or 2. Our prediction error against counterparty 2 is 1/10 the error against the counter parties. our sign error when predicting the next price for counterparty 0 is much better than against counterparty 1 and 2"
   ]
  },
  {
   "cell_type": "markdown",
   "id": "0c412087-60e2-4e02-93db-d236ede0d5d9",
   "metadata": {},
   "source": [
    "### Trade Classification "
   ]
  },
  {
   "cell_type": "code",
   "execution_count": 269,
   "id": "47b2534e-9203-44d7-b169-a4f8dd4b6af9",
   "metadata": {},
   "outputs": [
    {
     "data": {
      "text/plain": [
       "Index(['Competitors', 'quote_diff', 'Notional_cuts', 'Bid', 'Offer'], dtype='object')"
      ]
     },
     "execution_count": 269,
     "metadata": {},
     "output_type": "execute_result"
    }
   ],
   "source": [
    "columns_c, columns_test_c, X_train_c, y_train_c, X_test_c, y_test_c = prep_data_classifier(training,test,'Traded')\n",
    "columns_c"
   ]
  },
  {
   "cell_type": "code",
   "execution_count": 270,
   "id": "64bae5cc-f31d-4b21-98ac-1fc7d88a7b77",
   "metadata": {},
   "outputs": [
    {
     "name": "stdout",
     "output_type": "stream",
     "text": [
      "Train: Log-loss = 0.3145092619795812, accuracy = 86.5400 %\n",
      "Test: Log-loss = 0.35181151592895377, accuracy = 84.9000 %\n",
      "estimation error for any single point prediction: 0.8574\n"
     ]
    }
   ],
   "source": [
    "RFmodel1 = RandomForestClassifier(min_samples_split=100,oob_score=True)\n",
    "RFmodel1.fit(X_train_c, y_train_c)\n",
    "\n",
    "# evaluate performance\n",
    "log_loss_train = log_loss(y_train_c, RFmodel1.predict_proba(X_train_c))\n",
    "log_loss_test = log_loss(y_test_c, RFmodel1.predict_proba(X_test_c))\n",
    "accuracy_train = accuracy_score(y_train_c, RFmodel1.predict(X_train_c))\n",
    "accuracy_test = accuracy_score(y_test_c, RFmodel1.predict(X_test_c))\n",
    "\n",
    "info_train = f'Train: Log-loss = {log_loss_train}, accuracy = {100*accuracy_train:.4f} %'\n",
    "info_test = f'Test: Log-loss = {log_loss_test}, accuracy = {100*accuracy_test:.4f} %'\n",
    "print(info_train)\n",
    "print(info_test)\n",
    "print('estimation error for any single point prediction:',RFmodel1.oob_score_)"
   ]
  },
  {
   "cell_type": "code",
   "execution_count": 271,
   "id": "e0d3427d-73bb-4d3a-adc5-b201c1a111d2",
   "metadata": {},
   "outputs": [
    {
     "data": {
      "text/plain": [
       "array([[2.        , 0.99713494, 1.        , 1.        , 0.        ],\n",
       "       [3.        , 0.99964618, 0.        , 1.        , 0.        ],\n",
       "       [4.        , 0.99988199, 0.        , 1.        , 0.        ],\n",
       "       ...,\n",
       "       [1.        , 1.00063354, 0.        , 0.        , 1.        ],\n",
       "       [3.        , 0.99945583, 0.        , 1.        , 0.        ],\n",
       "       [4.        , 1.00078827, 0.        , 0.        , 1.        ]])"
      ]
     },
     "execution_count": 271,
     "metadata": {},
     "output_type": "execute_result"
    }
   ],
   "source": [
    "X_test_c"
   ]
  },
  {
   "cell_type": "markdown",
   "id": "fd585245-c400-4662-9e8a-41f8153cb973",
   "metadata": {},
   "source": [
    "#### PnL Classification - prob need to update the feature"
   ]
  },
  {
   "cell_type": "code",
   "execution_count": 272,
   "id": "be9a3ab8-9ece-40a5-b3d2-6811b7cbb68c",
   "metadata": {},
   "outputs": [
    {
     "data": {
      "text/plain": [
       "Index(['Competitors', 'quote_diff', 'Notional_cuts', 'Bid', 'Offer'], dtype='object')"
      ]
     },
     "execution_count": 272,
     "metadata": {},
     "output_type": "execute_result"
    }
   ],
   "source": [
    "columns_p, columns_test_p, X_train_p, y_train_p, X_test_p, y_test_p = prep_data_classifier(training,test,'PnL')\n",
    "columns_p"
   ]
  },
  {
   "cell_type": "code",
   "execution_count": 273,
   "id": "468ff1a0-6c28-4434-8fab-db8110f5ed40",
   "metadata": {},
   "outputs": [
    {
     "name": "stdout",
     "output_type": "stream",
     "text": [
      "Train: Log-loss = 0.571826745952243, accuracy = 69.1800 %\n",
      "Test: Log-loss = 0.5942876388137891, accuracy = 66.9000 %\n",
      "estimation error for any single point prediction: 0.6436\n"
     ]
    }
   ],
   "source": [
    "RFmodel2 = RandomForestClassifier(min_samples_split=100,oob_score=True)\n",
    "RFmodel2.fit(X_train_p, y_train_p)\n",
    "\n",
    "# evaluate performance\n",
    "log_loss_train = log_loss(y_train_p, RFmodel2.predict_proba(X_train_p))\n",
    "log_loss_test = log_loss(y_test_p, RFmodel2.predict_proba(X_test_p))\n",
    "accuracy_train = accuracy_score(y_train_p, RFmodel2.predict(X_train_p))\n",
    "accuracy_test = accuracy_score(y_test_p, RFmodel2.predict(X_test_p))\n",
    "\n",
    "info_train = f'Train: Log-loss = {log_loss_train}, accuracy = {100*accuracy_train:.4f} %'\n",
    "info_test = f'Test: Log-loss = {log_loss_test}, accuracy = {100*accuracy_test:.4f} %'\n",
    "print(info_train)\n",
    "print(info_test)\n",
    "print('estimation error for any single point prediction:',RFmodel2.oob_score_)"
   ]
  },
  {
   "cell_type": "markdown",
   "id": "97830fcd-4ca2-499a-8fa9-558f502767a8",
   "metadata": {},
   "source": [
    "#### Best Quote Price"
   ]
  },
  {
   "cell_type": "code",
   "execution_count": 275,
   "id": "e741e003-093e-4ffb-a282-a37f5969499c",
   "metadata": {},
   "outputs": [],
   "source": [
    "test['next_mid_price'] = Next_mid_price"
   ]
  },
  {
   "cell_type": "code",
   "execution_count": 276,
   "id": "c6e404d1-e0be-4422-9bac-f88ea312ffcc",
   "metadata": {},
   "outputs": [],
   "source": [
    "suggested_delta = []\n",
    "for idx,row in test.iterrows():\n",
    "    bond_error = regressor_test.groupby(['Bond']).mean()['error'][row['Bond']] \n",
    "    #we can define penalty here\n",
    "    sample,delta = max_pnl_price(bond_error,row,columns_c,columns_p,RFmodel1,RFmodel2,1)\n",
    "    suggested_delta.append(delta*row['MidPrice'])"
   ]
  },
  {
   "cell_type": "code",
   "execution_count": 277,
   "id": "6def987a-c712-442f-aad6-36b8aa158de0",
   "metadata": {},
   "outputs": [],
   "source": [
    "test = pd.read_excel(DATA, sheet_name=sheets[1])"
   ]
  },
  {
   "cell_type": "code",
   "execution_count": 279,
   "id": "8307d556-5de3-4892-9c9e-9e31050d94a6",
   "metadata": {},
   "outputs": [
    {
     "name": "stdout",
     "output_type": "stream",
     "text": [
      "pos_pnl:562\n",
      "better_price:439\n",
      "traded_pos_pnl:1\n"
     ]
    }
   ],
   "source": [
    "test_perf=pnl(suggested_delta,test)\n",
    "test_perf"
   ]
  },
  {
   "cell_type": "code",
   "execution_count": null,
   "id": "a0a5bd8e-e1e5-4c2a-866b-69028cb3d36a",
   "metadata": {},
   "outputs": [],
   "source": []
  }
 ],
 "metadata": {
  "kernelspec": {
   "display_name": "Python 3 (ipykernel)",
   "language": "python",
   "name": "python3"
  },
  "language_info": {
   "codemirror_mode": {
    "name": "ipython",
    "version": 3
   },
   "file_extension": ".py",
   "mimetype": "text/x-python",
   "name": "python",
   "nbconvert_exporter": "python",
   "pygments_lexer": "ipython3",
   "version": "3.10.7"
  }
 },
 "nbformat": 4,
 "nbformat_minor": 5
}
