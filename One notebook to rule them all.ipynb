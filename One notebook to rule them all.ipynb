{
 "cells": [
  {
   "cell_type": "code",
   "execution_count": 183,
   "id": "2a659b8d-7543-4160-9d97-4b76217e6694",
   "metadata": {},
   "outputs": [
    {
     "name": "stdout",
     "output_type": "stream",
     "text": [
      "The autoreload extension is already loaded. To reload it, use:\n",
      "  %reload_ext autoreload\n"
     ]
    }
   ],
   "source": [
    "import pandas as pd\n",
    "import numpy as np\n",
    "import sys, math, os, json, re, random\n",
    "import scipy.stats as stats\n",
    "import matplotlib.pyplot as plt\n",
    "import seaborn as sns\n",
    "import datetime as dt\n",
    "\n",
    "from sklearn.metrics import accuracy_score\n",
    "from sklearn.metrics import log_loss\n",
    "from sklearn.metrics import mean_absolute_error\n",
    "\n",
    "from functions import *\n",
    "\n",
    "from sklearn.ensemble import RandomForestClassifier\n",
    "from sklearn.ensemble import RandomForestRegressor\n",
    "from sklearn.model_selection import GridSearchCV\n",
    "\n",
    "# jupyter magic to display plots directly in the notebook\n",
    "%matplotlib inline\n",
    "\n",
    "# use vector graphics format for nicer plots\n",
    "%config Inline.Backend.figure_format = 'svg'\n",
    "\n",
    "%config Completer.use_jedi = False\n",
    "\n",
    "%load_ext autoreload\n",
    "%autoreload 2"
   ]
  },
  {
   "cell_type": "code",
   "execution_count": 190,
   "id": "8e0a1453-481f-4ffd-9081-a59e850d472d",
   "metadata": {},
   "outputs": [],
   "source": [
    "DATA = 'data/RfqData.xlsx'\n",
    "sheets = pd.ExcelFile(DATA).sheet_names"
   ]
  },
  {
   "cell_type": "code",
   "execution_count": 209,
   "id": "6208599f-9f4c-457e-a90d-8f308a0a8ff0",
   "metadata": {},
   "outputs": [],
   "source": [
    "def add_features(df):\n",
    "    df['quote_diff'] = (df['QuotedPrice']/df['MidPrice'])\n",
    "    df['NextMid_diff'] = (df['NextMidPrice']/df['MidPrice'])\n",
    "    df['Traded'] = df['Traded'].map(target_mapping)\n",
    "    df['Notional_cuts'] = pd.cut(df['Notional'], [0, 100000, 1000000, 10000000, 50000000], labels=[0, 1, 2, 3], include_lowest=True, right=True)\n",
    "    \n",
    "    cols = ['Side','Counterparty','Bond']\n",
    "    \n",
    "    for col in cols:\n",
    "        one_hot_encode = pd.get_dummies(df[col])\n",
    "        df = df.join(one_hot_encode)\n",
    "        \n",
    "    df['Counterparty'] = df['Counterparty'].apply(lambda x: int(x[-1:]))\n",
    "    df['Bond'] = df['Bond'].apply(lambda x: int(x[-1:]))\n",
    "    df['Side'] = df['Side'].map({'Offer':-1,'Bid':1})\n",
    "    \n",
    "    df['PnL']=(((df['NextMidPrice']-df['QuotedPrice'])>=0).astype(int)*2-1)*df['Side']\n",
    "    \n",
    "    cols_to_drop = ['Time'] + ['Notional', 'QuotedPrice', 'NextMidPrice']\n",
    "    \n",
    "    return df.drop(columns=cols_to_drop)\n",
    "\n",
    "\n",
    "training = pd.read_excel(DATA, sheet_name=sheets[0])\n",
    "test = pd.read_excel(DATA, sheet_name=sheets[1])\n",
    "competition = pd.read_excel(DATA, sheet_name=sheets[2])\n",
    "\n",
    "target_mapping = {'MISSED': 0, 'DONE': 1}\n",
    "\n",
    "def prep_data_regression(train,test):# extract input and target\n",
    "    to_drop = ['NextMid_diff','Bond','Counterparty','MidPrice',\\\n",
    "               'Notional_cuts','quote_diff','Competitors','Side','PnL']\n",
    "    columns = training.drop(columns=to_drop).columns\n",
    "    X_train = training.drop(columns=to_drop).values\n",
    "    \n",
    "    y_train = training[['NextMid_diff']].values.ravel()\n",
    "    X_test = test.drop(columns=to_drop).values\n",
    "    y_test = test[['NextMid_diff']].values.ravel()\n",
    "    return columns, X_train, y_train, X_test, y_test\n",
    "\n",
    "\n",
    "def prep_data_classifier(train,test,y_value):# extract input and target\n",
    "    to_drop = ['NextMid_diff','Bond','Counterparty','MidPrice','Side',\\\n",
    "               'Ctpy_0', 'Ctpy_1', 'Ctpy_2', 'Ctpy_3',\\\n",
    "              'Bond_0', 'Bond_1', 'Bond_2','Traded','PnL']\n",
    "    columns = training.drop(columns=to_drop).columns\n",
    "    X_train = training.drop(columns=to_drop).values  \n",
    "    y_train = training[[y_value]].values.ravel()\n",
    "    \n",
    "    columns_test = test.drop(columns=to_drop).columns\n",
    "    X_test = test.drop(columns=to_drop).values\n",
    "    y_test = test[[y_value]].values.ravel()\n",
    "    return columns, columns_test, X_train, y_train, X_test, y_test\n",
    "\n",
    "# training=add_features(training[training['Counterparty']=='Ctpy_0'])\n",
    "# test=add_features(test[test['Counterparty']=='Ctpy_0'])"
   ]
  },
  {
   "cell_type": "code",
   "execution_count": 210,
   "id": "d5d638f5-6c66-4693-a937-a5f0fdb51c43",
   "metadata": {},
   "outputs": [],
   "source": [
    "training = add_features(training)\n",
    "test = add_features(test)"
   ]
  },
  {
   "cell_type": "markdown",
   "id": "fbd108ac-5a8a-437c-97eb-3008d189caf7",
   "metadata": {},
   "source": [
    "### next mid price prediction"
   ]
  },
  {
   "cell_type": "code",
   "execution_count": 192,
   "id": "2a9c0a54-1b38-40aa-8348-bdfbe11b12c2",
   "metadata": {},
   "outputs": [
    {
     "data": {
      "text/plain": [
       "Index(['Traded', 'Bid', 'Offer', 'Ctpy_0', 'Ctpy_1', 'Ctpy_2', 'Ctpy_3',\n",
       "       'Bond_0', 'Bond_1', 'Bond_2'],\n",
       "      dtype='object')"
      ]
     },
     "execution_count": 192,
     "metadata": {},
     "output_type": "execute_result"
    }
   ],
   "source": [
    "columns_m, X_train_m, y_train_m, X_test_m, y_test_m = prep_data_regression()\n",
    "columns_m"
   ]
  },
  {
   "cell_type": "code",
   "execution_count": 194,
   "id": "e3b1fbf1-a1c8-4984-82d0-afa70ec396ee",
   "metadata": {},
   "outputs": [
    {
     "name": "stdout",
     "output_type": "stream",
     "text": [
      "Train: abs error = 0.0007939211268763759\n",
      "Test : abs error = 0.0008710984222408261\n",
      "sign error: 0.373\n",
      "estimation error for any single point prediction: 0.05279758264069434\n"
     ]
    }
   ],
   "source": [
    "RFmodel_r = RandomForestRegressor(min_samples_split=100,oob_score=True)\n",
    "RFmodel_r.fit(X_train_m, y_train_m)\n",
    "\n",
    "# evaluate performance\n",
    "abs_error_train = mean_absolute_error(y_train_m, RFmodel_r.predict(X_train_m))\n",
    "abs_error_test = mean_absolute_error(y_test_m, RFmodel_r.predict(X_test_m))\n",
    "y_pred = RFmodel_r.predict(X_test_m)\n",
    "test_se = (np.sign(y_pred - np.ones(len(y_pred))) != np.sign(y_test_m - np.ones(len(y_pred)))).sum()/len(y_test_m)\n",
    "\n",
    "info_train = f'Train: abs error = {abs_error_train}'\n",
    "info_test = f'Test : abs error = {abs_error_test}'\n",
    "print(info_train)\n",
    "print(info_test)\n",
    "print('sign error:', test_se)\n",
    "print('estimation error for any single point prediction:',RFmodel_r.oob_score_)"
   ]
  },
  {
   "cell_type": "code",
   "execution_count": 227,
   "id": "8bb5f5ad-2c54-48ff-8798-1c32d5293589",
   "metadata": {},
   "outputs": [],
   "source": [
    "Next_mid_price = y_pred*test['MidPrice']"
   ]
  },
  {
   "cell_type": "code",
   "execution_count": 196,
   "id": "52303ceb-3ef0-467e-81fe-6ce34773c94e",
   "metadata": {},
   "outputs": [],
   "source": [
    "regressor_test = test.copy(deep=True)"
   ]
  },
  {
   "cell_type": "code",
   "execution_count": 197,
   "id": "c2d24ce2-7ee9-4e2c-89d1-7817cf00022d",
   "metadata": {},
   "outputs": [],
   "source": [
    "regressor_test['error'] = (y_pred-y_test_m)*test['MidPrice'].to_numpy()\n",
    "regressor_test['sign error'] = np.sign(y_pred - np.ones(len(y_pred)))>0"
   ]
  },
  {
   "cell_type": "code",
   "execution_count": 198,
   "id": "9742d8e1-e96f-4af3-b1e6-a016cabf9a4a",
   "metadata": {},
   "outputs": [
    {
     "data": {
      "text/plain": [
       "Counterparty\n",
       "0   -0.007830\n",
       "1   -0.004509\n",
       "2   -0.019977\n",
       "3    0.004506\n",
       "Name: error, dtype: float64"
      ]
     },
     "execution_count": 198,
     "metadata": {},
     "output_type": "execute_result"
    }
   ],
   "source": [
    "regressor_test.groupby(['Counterparty']).mean()['error']"
   ]
  },
  {
   "cell_type": "code",
   "execution_count": 199,
   "id": "e40f661a-02c9-4f3b-b5a0-5cc4c86d589d",
   "metadata": {},
   "outputs": [
    {
     "data": {
      "text/plain": [
       "Counterparty\n",
       "0    0.473404\n",
       "1    0.182609\n",
       "2    0.354167\n",
       "3    0.541766\n",
       "Name: sign error, dtype: float64"
      ]
     },
     "execution_count": 199,
     "metadata": {},
     "output_type": "execute_result"
    }
   ],
   "source": [
    "regressor_test.groupby(['Counterparty']).mean()['sign error']"
   ]
  },
  {
   "cell_type": "code",
   "execution_count": 200,
   "id": "ec151b6b-a1c1-4cc1-a920-ad8d1fe2ab33",
   "metadata": {},
   "outputs": [
    {
     "data": {
      "text/plain": [
       "Bond\n",
       "0   -0.003019\n",
       "1    0.011684\n",
       "2   -0.004276\n",
       "Name: error, dtype: float64"
      ]
     },
     "execution_count": 200,
     "metadata": {},
     "output_type": "execute_result"
    }
   ],
   "source": [
    "regressor_test.groupby(['Bond']).mean()['error']"
   ]
  },
  {
   "cell_type": "code",
   "execution_count": 201,
   "id": "12fe3169-bfe3-4538-be6f-ab489768ce5d",
   "metadata": {},
   "outputs": [
    {
     "data": {
      "text/plain": [
       "Bond\n",
       "0    0.338115\n",
       "1    0.561224\n",
       "2    0.425121\n",
       "Name: sign error, dtype: float64"
      ]
     },
     "execution_count": 201,
     "metadata": {},
     "output_type": "execute_result"
    }
   ],
   "source": [
    "regressor_test.groupby(['Bond']).mean()['sign error']"
   ]
  },
  {
   "cell_type": "markdown",
   "id": "33b9e46b-6a7f-450f-8a89-aee8cca68cf7",
   "metadata": {},
   "source": [
    "### Notes: Our estimation error when predicting the price of bond 1 is 10x bond 0 or 2. Our prediction error against counterparty 2 is 1/10 the error against the counter parties. our sign error when predicting the next price for counterparty 0 is much better than against counterparty 1 and 2"
   ]
  },
  {
   "cell_type": "markdown",
   "id": "0c412087-60e2-4e02-93db-d236ede0d5d9",
   "metadata": {},
   "source": [
    "### Trade Classification "
   ]
  },
  {
   "cell_type": "code",
   "execution_count": 212,
   "id": "47b2534e-9203-44d7-b169-a4f8dd4b6af9",
   "metadata": {},
   "outputs": [
    {
     "data": {
      "text/plain": [
       "Index(['Competitors', 'quote_diff', 'Notional_cuts', 'Bid', 'Offer'], dtype='object')"
      ]
     },
     "execution_count": 212,
     "metadata": {},
     "output_type": "execute_result"
    }
   ],
   "source": [
    "columns_c, columns_test_c, X_train_c, y_train_c, X_test_c, y_test_c = prep_data_classifier(training,test,'Traded')\n",
    "columns_c"
   ]
  },
  {
   "cell_type": "code",
   "execution_count": 214,
   "id": "64bae5cc-f31d-4b21-98ac-1fc7d88a7b77",
   "metadata": {},
   "outputs": [
    {
     "name": "stdout",
     "output_type": "stream",
     "text": [
      "Train: Log-loss = 0.31618931094918196, accuracy = 86.4800 %\n",
      "Test: Log-loss = 0.35503507597072487, accuracy = 84.6000 %\n",
      "estimation error for any single point prediction: 0.856\n"
     ]
    }
   ],
   "source": [
    "RFmodel1 = RandomForestClassifier(min_samples_split=100,oob_score=True)\n",
    "RFmodel1.fit(X_train_c, y_train_c)\n",
    "\n",
    "# evaluate performance\n",
    "log_loss_train = log_loss(y_train_c, RFmodel1.predict_proba(X_train_c))\n",
    "log_loss_test = log_loss(y_test_c, RFmodel1.predict_proba(X_test_c))\n",
    "accuracy_train = accuracy_score(y_train_c, RFmodel1.predict(X_train_c))\n",
    "accuracy_test = accuracy_score(y_test_c, RFmodel1.predict(X_test_c))\n",
    "\n",
    "info_train = f'Train: Log-loss = {log_loss_train}, accuracy = {100*accuracy_train:.4f} %'\n",
    "info_test = f'Test: Log-loss = {log_loss_test}, accuracy = {100*accuracy_test:.4f} %'\n",
    "print(info_train)\n",
    "print(info_test)\n",
    "print('estimation error for any single point prediction:',RFmodel1.oob_score_)"
   ]
  },
  {
   "cell_type": "code",
   "execution_count": 222,
   "id": "e0d3427d-73bb-4d3a-adc5-b201c1a111d2",
   "metadata": {},
   "outputs": [
    {
     "data": {
      "text/plain": [
       "array([[2.        , 0.99713494, 1.        , 1.        , 0.        ],\n",
       "       [3.        , 0.99964618, 0.        , 1.        , 0.        ],\n",
       "       [4.        , 0.99988199, 0.        , 1.        , 0.        ],\n",
       "       ...,\n",
       "       [1.        , 1.00063354, 0.        , 0.        , 1.        ],\n",
       "       [3.        , 0.99945583, 0.        , 1.        , 0.        ],\n",
       "       [4.        , 1.00078827, 0.        , 0.        , 1.        ]])"
      ]
     },
     "execution_count": 222,
     "metadata": {},
     "output_type": "execute_result"
    }
   ],
   "source": [
    "X_test_c"
   ]
  },
  {
   "cell_type": "markdown",
   "id": "fd585245-c400-4662-9e8a-41f8153cb973",
   "metadata": {},
   "source": [
    "#### PnL Classification - prob need to update the feature"
   ]
  },
  {
   "cell_type": "code",
   "execution_count": 215,
   "id": "be9a3ab8-9ece-40a5-b3d2-6811b7cbb68c",
   "metadata": {},
   "outputs": [
    {
     "data": {
      "text/plain": [
       "Index(['Competitors', 'quote_diff', 'Notional_cuts', 'Bid', 'Offer'], dtype='object')"
      ]
     },
     "execution_count": 215,
     "metadata": {},
     "output_type": "execute_result"
    }
   ],
   "source": [
    "columns_p, columns_test_p, X_train_p, y_train_p, X_test_p, y_test_p = prep_data_classifier(training,test,'PnL')\n",
    "columns_p"
   ]
  },
  {
   "cell_type": "code",
   "execution_count": 216,
   "id": "468ff1a0-6c28-4434-8fab-db8110f5ed40",
   "metadata": {},
   "outputs": [
    {
     "name": "stdout",
     "output_type": "stream",
     "text": [
      "Train: Log-loss = 0.5715609679902964, accuracy = 69.5600 %\n",
      "Test: Log-loss = 0.5923190821859095, accuracy = 66.8000 %\n",
      "estimation error for any single point prediction: 0.6414\n"
     ]
    }
   ],
   "source": [
    "RFmodel2 = RandomForestClassifier(min_samples_split=100,oob_score=True)\n",
    "RFmodel2.fit(X_train_p, y_train_p)\n",
    "\n",
    "# evaluate performance\n",
    "log_loss_train = log_loss(y_train_p, RFmodel2.predict_proba(X_train_p))\n",
    "log_loss_test = log_loss(y_test_p, RFmodel2.predict_proba(X_test_p))\n",
    "accuracy_train = accuracy_score(y_train_p, RFmodel2.predict(X_train_p))\n",
    "accuracy_test = accuracy_score(y_test_p, RFmodel2.predict(X_test_p))\n",
    "\n",
    "info_train = f'Train: Log-loss = {log_loss_train}, accuracy = {100*accuracy_train:.4f} %'\n",
    "info_test = f'Test: Log-loss = {log_loss_test}, accuracy = {100*accuracy_test:.4f} %'\n",
    "print(info_train)\n",
    "print(info_test)\n",
    "print('estimation error for any single point prediction:',RFmodel2.oob_score_)"
   ]
  },
  {
   "cell_type": "code",
   "execution_count": null,
   "id": "886e0b14-cd44-44cd-a806-990e89f33810",
   "metadata": {},
   "outputs": [],
   "source": [
    "RFmodel1.predict_proba(test.iloc[0]).values)[:, 1]"
   ]
  },
  {
   "cell_type": "markdown",
   "id": "97830fcd-4ca2-499a-8fa9-558f502767a8",
   "metadata": {},
   "source": [
    "#### Best Quote Price"
   ]
  },
  {
   "cell_type": "code",
   "execution_count": 229,
   "id": "e741e003-093e-4ffb-a282-a37f5969499c",
   "metadata": {},
   "outputs": [],
   "source": [
    "test['next_mid_price'] = Next_mid_price"
   ]
  },
  {
   "cell_type": "code",
   "execution_count": 247,
   "id": "c6e404d1-e0be-4422-9bac-f88ea312ffcc",
   "metadata": {},
   "outputs": [
    {
     "name": "stdout",
     "output_type": "stream",
     "text": [
      "0.1\n",
      "0.1\n",
      "0.1\n",
      "0.1\n"
     ]
    },
    {
     "ename": "TypeError",
     "evalue": "'numpy.float64' object is not iterable",
     "output_type": "error",
     "traceback": [
      "\u001b[0;31m---------------------------------------------------------------------------\u001b[0m",
      "\u001b[0;31mTypeError\u001b[0m                                 Traceback (most recent call last)",
      "Cell \u001b[0;32mIn [247], line 5\u001b[0m\n\u001b[1;32m      3\u001b[0m bond_error \u001b[38;5;241m=\u001b[39m regressor_test\u001b[38;5;241m.\u001b[39mgroupby([\u001b[38;5;124m'\u001b[39m\u001b[38;5;124mBond\u001b[39m\u001b[38;5;124m'\u001b[39m])\u001b[38;5;241m.\u001b[39mmean()[\u001b[38;5;124m'\u001b[39m\u001b[38;5;124merror\u001b[39m\u001b[38;5;124m'\u001b[39m][row[\u001b[38;5;124m'\u001b[39m\u001b[38;5;124mBond\u001b[39m\u001b[38;5;124m'\u001b[39m]] \n\u001b[1;32m      4\u001b[0m \u001b[38;5;66;03m#we can define penalty here\u001b[39;00m\n\u001b[0;32m----> 5\u001b[0m sample,delta \u001b[38;5;241m=\u001b[39m \u001b[43mmax_pnl_price\u001b[49m\u001b[43m(\u001b[49m\u001b[43mbond_error\u001b[49m\u001b[43m,\u001b[49m\u001b[43mrow\u001b[49m\u001b[43m,\u001b[49m\u001b[43mcolumns_c\u001b[49m\u001b[43m,\u001b[49m\u001b[43mcolumns_p\u001b[49m\u001b[43m,\u001b[49m\u001b[43mRFmodel1\u001b[49m\u001b[43m,\u001b[49m\u001b[43mRFmodel2\u001b[49m\u001b[43m,\u001b[49m\u001b[38;5;241;43m1\u001b[39;49m\u001b[43m)\u001b[49m\n\u001b[1;32m      6\u001b[0m \u001b[38;5;66;03m#suggested_delta.append(delta*row['MidPrice'])\u001b[39;00m\n\u001b[1;32m      7\u001b[0m \u001b[38;5;66;03m#print(sample)\u001b[39;00m\n\u001b[1;32m      8\u001b[0m \u001b[38;5;28mprint\u001b[39m(delta)\n",
      "File \u001b[0;32m~/Desktop/Cornell/FX Rates Crypto/RFQ-project/functions.py:10\u001b[0m, in \u001b[0;36mmax_pnl_price\u001b[0;34m(bonderror, trade, column1, column2, model1, model2, penalty)\u001b[0m\n\u001b[1;32m      8\u001b[0m     sample[\u001b[38;5;124m'\u001b[39m\u001b[38;5;124mdelta_from_mid\u001b[39m\u001b[38;5;124m'\u001b[39m] \u001b[38;5;241m=\u001b[39m np\u001b[38;5;241m.\u001b[39marange(\u001b[38;5;28mmin\u001b[39m(\u001b[38;5;241m0.1\u001b[39m,cut_off\u001b[38;5;241m-\u001b[39mbonderror),\u001b[38;5;28mmax\u001b[39m(\u001b[38;5;241m0.1\u001b[39m,cut_off\u001b[38;5;241m-\u001b[39mbonderror),\u001b[38;5;241m0.01\u001b[39m)\n\u001b[1;32m      9\u001b[0m \u001b[38;5;28;01mif\u001b[39;00m trade[\u001b[38;5;124m'\u001b[39m\u001b[38;5;124mSide\u001b[39m\u001b[38;5;124m'\u001b[39m]\u001b[38;5;241m==\u001b[39m\u001b[38;5;241m-\u001b[39m\u001b[38;5;241m1\u001b[39m:\n\u001b[0;32m---> 10\u001b[0m     sample[\u001b[38;5;124m'\u001b[39m\u001b[38;5;124mdelta_from_mid\u001b[39m\u001b[38;5;124m'\u001b[39m] \u001b[38;5;241m=\u001b[39m np\u001b[38;5;241m.\u001b[39marange(\u001b[38;5;28;43mmin\u001b[39;49m\u001b[43m(\u001b[49m\u001b[43mcut_off\u001b[49m\u001b[38;5;241;43m+\u001b[39;49m\u001b[43mbonderror\u001b[49m\u001b[43m)\u001b[49m,\u001b[38;5;28mmax\u001b[39m(cut_off\u001b[38;5;241m+\u001b[39mbonderror),\u001b[38;5;241m1.2\u001b[39m,\u001b[38;5;241m0.01\u001b[39m)\n\u001b[1;32m     12\u001b[0m sample[column1] \u001b[38;5;241m=\u001b[39m trade[column1]\n\u001b[1;32m     14\u001b[0m sample[\u001b[38;5;124m'\u001b[39m\u001b[38;5;124mP_trade\u001b[39m\u001b[38;5;124m'\u001b[39m],sample[\u001b[38;5;124m'\u001b[39m\u001b[38;5;124mP_pospnl\u001b[39m\u001b[38;5;124m'\u001b[39m]\u001b[38;5;241m=\u001b[39mmodel1\u001b[38;5;241m.\u001b[39mpredict_proba(sample\u001b[38;5;241m.\u001b[39mdrop(columns\u001b[38;5;241m=\u001b[39m[\u001b[38;5;124m'\u001b[39m\u001b[38;5;124mdelta_from_mid\u001b[39m\u001b[38;5;124m'\u001b[39m])\u001b[38;5;241m.\u001b[39mvalues)[:, \u001b[38;5;241m1\u001b[39m],model2\u001b[38;5;241m.\u001b[39mpredict_proba(sample\u001b[38;5;241m.\u001b[39mdrop(columns\u001b[38;5;241m=\u001b[39m[\u001b[38;5;124m'\u001b[39m\u001b[38;5;124mdelta_from_mid\u001b[39m\u001b[38;5;124m'\u001b[39m])\u001b[38;5;241m.\u001b[39mvalues)[:, \u001b[38;5;241m1\u001b[39m]\n",
      "\u001b[0;31mTypeError\u001b[0m: 'numpy.float64' object is not iterable"
     ]
    }
   ],
   "source": [
    "suggested_delta = []\n",
    "for idx,row in test.iterrows():\n",
    "    bond_error = regressor_test.groupby(['Bond']).mean()['error'][row['Bond']] \n",
    "    #we can define penalty here\n",
    "    sample,delta = max_pnl_price(bond_error,row,columns_c,columns_p,RFmodel1,RFmodel2,1)\n",
    "    #suggested_delta.append(delta*row['MidPrice'])\n",
    "    #print(sample)\n",
    "    print(delta)\n",
    "    if idx==10:   \n",
    "        break"
   ]
  },
  {
   "cell_type": "code",
   "execution_count": 244,
   "id": "7fede1c1-1682-4c8d-8bda-689a8a63940d",
   "metadata": {},
   "outputs": [
    {
     "data": {
      "text/html": [
       "<div>\n",
       "<style scoped>\n",
       "    .dataframe tbody tr th:only-of-type {\n",
       "        vertical-align: middle;\n",
       "    }\n",
       "\n",
       "    .dataframe tbody tr th {\n",
       "        vertical-align: top;\n",
       "    }\n",
       "\n",
       "    .dataframe thead th {\n",
       "        text-align: right;\n",
       "    }\n",
       "</style>\n",
       "<table border=\"1\" class=\"dataframe\">\n",
       "  <thead>\n",
       "    <tr style=\"text-align: right;\">\n",
       "      <th></th>\n",
       "      <th>Bond</th>\n",
       "      <th>Side</th>\n",
       "      <th>Counterparty</th>\n",
       "      <th>MidPrice</th>\n",
       "      <th>Competitors</th>\n",
       "      <th>Traded</th>\n",
       "      <th>quote_diff</th>\n",
       "      <th>NextMid_diff</th>\n",
       "      <th>Notional_cuts</th>\n",
       "      <th>Bid</th>\n",
       "      <th>Offer</th>\n",
       "      <th>Ctpy_0</th>\n",
       "      <th>Ctpy_1</th>\n",
       "      <th>Ctpy_2</th>\n",
       "      <th>Ctpy_3</th>\n",
       "      <th>Bond_0</th>\n",
       "      <th>Bond_1</th>\n",
       "      <th>Bond_2</th>\n",
       "      <th>PnL</th>\n",
       "      <th>next_mid_price</th>\n",
       "    </tr>\n",
       "  </thead>\n",
       "  <tbody>\n",
       "    <tr>\n",
       "      <th>0</th>\n",
       "      <td>2</td>\n",
       "      <td>1</td>\n",
       "      <td>3</td>\n",
       "      <td>108.20</td>\n",
       "      <td>2</td>\n",
       "      <td>0</td>\n",
       "      <td>0.997135</td>\n",
       "      <td>1.001109</td>\n",
       "      <td>1</td>\n",
       "      <td>1</td>\n",
       "      <td>0</td>\n",
       "      <td>0</td>\n",
       "      <td>0</td>\n",
       "      <td>0</td>\n",
       "      <td>1</td>\n",
       "      <td>0</td>\n",
       "      <td>0</td>\n",
       "      <td>1</td>\n",
       "      <td>1</td>\n",
       "      <td>108.177416</td>\n",
       "    </tr>\n",
       "    <tr>\n",
       "      <th>1</th>\n",
       "      <td>0</td>\n",
       "      <td>1</td>\n",
       "      <td>3</td>\n",
       "      <td>84.79</td>\n",
       "      <td>3</td>\n",
       "      <td>1</td>\n",
       "      <td>0.999646</td>\n",
       "      <td>0.999410</td>\n",
       "      <td>0</td>\n",
       "      <td>1</td>\n",
       "      <td>0</td>\n",
       "      <td>0</td>\n",
       "      <td>0</td>\n",
       "      <td>0</td>\n",
       "      <td>1</td>\n",
       "      <td>1</td>\n",
       "      <td>0</td>\n",
       "      <td>0</td>\n",
       "      <td>-1</td>\n",
       "      <td>84.782625</td>\n",
       "    </tr>\n",
       "    <tr>\n",
       "      <th>2</th>\n",
       "      <td>0</td>\n",
       "      <td>1</td>\n",
       "      <td>3</td>\n",
       "      <td>84.74</td>\n",
       "      <td>4</td>\n",
       "      <td>1</td>\n",
       "      <td>0.999882</td>\n",
       "      <td>0.998466</td>\n",
       "      <td>0</td>\n",
       "      <td>1</td>\n",
       "      <td>0</td>\n",
       "      <td>0</td>\n",
       "      <td>0</td>\n",
       "      <td>0</td>\n",
       "      <td>1</td>\n",
       "      <td>1</td>\n",
       "      <td>0</td>\n",
       "      <td>0</td>\n",
       "      <td>-1</td>\n",
       "      <td>84.732629</td>\n",
       "    </tr>\n",
       "    <tr>\n",
       "      <th>3</th>\n",
       "      <td>2</td>\n",
       "      <td>1</td>\n",
       "      <td>1</td>\n",
       "      <td>108.81</td>\n",
       "      <td>1</td>\n",
       "      <td>1</td>\n",
       "      <td>0.999540</td>\n",
       "      <td>0.997059</td>\n",
       "      <td>0</td>\n",
       "      <td>1</td>\n",
       "      <td>0</td>\n",
       "      <td>0</td>\n",
       "      <td>1</td>\n",
       "      <td>0</td>\n",
       "      <td>0</td>\n",
       "      <td>0</td>\n",
       "      <td>0</td>\n",
       "      <td>1</td>\n",
       "      <td>-1</td>\n",
       "      <td>108.799625</td>\n",
       "    </tr>\n",
       "    <tr>\n",
       "      <th>4</th>\n",
       "      <td>0</td>\n",
       "      <td>-1</td>\n",
       "      <td>1</td>\n",
       "      <td>84.60</td>\n",
       "      <td>2</td>\n",
       "      <td>1</td>\n",
       "      <td>1.000473</td>\n",
       "      <td>1.000118</td>\n",
       "      <td>2</td>\n",
       "      <td>0</td>\n",
       "      <td>1</td>\n",
       "      <td>0</td>\n",
       "      <td>1</td>\n",
       "      <td>0</td>\n",
       "      <td>0</td>\n",
       "      <td>1</td>\n",
       "      <td>0</td>\n",
       "      <td>0</td>\n",
       "      <td>1</td>\n",
       "      <td>84.592811</td>\n",
       "    </tr>\n",
       "    <tr>\n",
       "      <th>...</th>\n",
       "      <td>...</td>\n",
       "      <td>...</td>\n",
       "      <td>...</td>\n",
       "      <td>...</td>\n",
       "      <td>...</td>\n",
       "      <td>...</td>\n",
       "      <td>...</td>\n",
       "      <td>...</td>\n",
       "      <td>...</td>\n",
       "      <td>...</td>\n",
       "      <td>...</td>\n",
       "      <td>...</td>\n",
       "      <td>...</td>\n",
       "      <td>...</td>\n",
       "      <td>...</td>\n",
       "      <td>...</td>\n",
       "      <td>...</td>\n",
       "      <td>...</td>\n",
       "      <td>...</td>\n",
       "      <td>...</td>\n",
       "    </tr>\n",
       "    <tr>\n",
       "      <th>995</th>\n",
       "      <td>0</td>\n",
       "      <td>-1</td>\n",
       "      <td>0</td>\n",
       "      <td>83.01</td>\n",
       "      <td>1</td>\n",
       "      <td>0</td>\n",
       "      <td>1.000361</td>\n",
       "      <td>1.000602</td>\n",
       "      <td>0</td>\n",
       "      <td>0</td>\n",
       "      <td>1</td>\n",
       "      <td>1</td>\n",
       "      <td>0</td>\n",
       "      <td>0</td>\n",
       "      <td>0</td>\n",
       "      <td>1</td>\n",
       "      <td>0</td>\n",
       "      <td>0</td>\n",
       "      <td>-1</td>\n",
       "      <td>83.051143</td>\n",
       "    </tr>\n",
       "    <tr>\n",
       "      <th>996</th>\n",
       "      <td>2</td>\n",
       "      <td>1</td>\n",
       "      <td>1</td>\n",
       "      <td>110.52</td>\n",
       "      <td>3</td>\n",
       "      <td>0</td>\n",
       "      <td>0.999095</td>\n",
       "      <td>0.999729</td>\n",
       "      <td>0</td>\n",
       "      <td>1</td>\n",
       "      <td>0</td>\n",
       "      <td>0</td>\n",
       "      <td>1</td>\n",
       "      <td>0</td>\n",
       "      <td>0</td>\n",
       "      <td>0</td>\n",
       "      <td>0</td>\n",
       "      <td>1</td>\n",
       "      <td>1</td>\n",
       "      <td>110.510200</td>\n",
       "    </tr>\n",
       "    <tr>\n",
       "      <th>997</th>\n",
       "      <td>2</td>\n",
       "      <td>-1</td>\n",
       "      <td>3</td>\n",
       "      <td>110.49</td>\n",
       "      <td>1</td>\n",
       "      <td>0</td>\n",
       "      <td>1.000634</td>\n",
       "      <td>0.997918</td>\n",
       "      <td>0</td>\n",
       "      <td>0</td>\n",
       "      <td>1</td>\n",
       "      <td>0</td>\n",
       "      <td>0</td>\n",
       "      <td>0</td>\n",
       "      <td>1</td>\n",
       "      <td>0</td>\n",
       "      <td>0</td>\n",
       "      <td>1</td>\n",
       "      <td>1</td>\n",
       "      <td>110.504461</td>\n",
       "    </tr>\n",
       "    <tr>\n",
       "      <th>998</th>\n",
       "      <td>2</td>\n",
       "      <td>1</td>\n",
       "      <td>3</td>\n",
       "      <td>110.26</td>\n",
       "      <td>3</td>\n",
       "      <td>1</td>\n",
       "      <td>0.999456</td>\n",
       "      <td>1.001179</td>\n",
       "      <td>0</td>\n",
       "      <td>1</td>\n",
       "      <td>0</td>\n",
       "      <td>0</td>\n",
       "      <td>0</td>\n",
       "      <td>0</td>\n",
       "      <td>1</td>\n",
       "      <td>0</td>\n",
       "      <td>0</td>\n",
       "      <td>1</td>\n",
       "      <td>1</td>\n",
       "      <td>110.247725</td>\n",
       "    </tr>\n",
       "    <tr>\n",
       "      <th>999</th>\n",
       "      <td>1</td>\n",
       "      <td>-1</td>\n",
       "      <td>3</td>\n",
       "      <td>126.86</td>\n",
       "      <td>4</td>\n",
       "      <td>1</td>\n",
       "      <td>1.000788</td>\n",
       "      <td>1.001419</td>\n",
       "      <td>0</td>\n",
       "      <td>0</td>\n",
       "      <td>1</td>\n",
       "      <td>0</td>\n",
       "      <td>0</td>\n",
       "      <td>0</td>\n",
       "      <td>1</td>\n",
       "      <td>0</td>\n",
       "      <td>1</td>\n",
       "      <td>0</td>\n",
       "      <td>-1</td>\n",
       "      <td>126.886187</td>\n",
       "    </tr>\n",
       "  </tbody>\n",
       "</table>\n",
       "<p>1000 rows × 20 columns</p>\n",
       "</div>"
      ],
      "text/plain": [
       "     Bond  Side  Counterparty  MidPrice  Competitors  Traded  quote_diff  \\\n",
       "0       2     1             3    108.20            2       0    0.997135   \n",
       "1       0     1             3     84.79            3       1    0.999646   \n",
       "2       0     1             3     84.74            4       1    0.999882   \n",
       "3       2     1             1    108.81            1       1    0.999540   \n",
       "4       0    -1             1     84.60            2       1    1.000473   \n",
       "..    ...   ...           ...       ...          ...     ...         ...   \n",
       "995     0    -1             0     83.01            1       0    1.000361   \n",
       "996     2     1             1    110.52            3       0    0.999095   \n",
       "997     2    -1             3    110.49            1       0    1.000634   \n",
       "998     2     1             3    110.26            3       1    0.999456   \n",
       "999     1    -1             3    126.86            4       1    1.000788   \n",
       "\n",
       "     NextMid_diff Notional_cuts  Bid  Offer  Ctpy_0  Ctpy_1  Ctpy_2  Ctpy_3  \\\n",
       "0        1.001109             1    1      0       0       0       0       1   \n",
       "1        0.999410             0    1      0       0       0       0       1   \n",
       "2        0.998466             0    1      0       0       0       0       1   \n",
       "3        0.997059             0    1      0       0       1       0       0   \n",
       "4        1.000118             2    0      1       0       1       0       0   \n",
       "..            ...           ...  ...    ...     ...     ...     ...     ...   \n",
       "995      1.000602             0    0      1       1       0       0       0   \n",
       "996      0.999729             0    1      0       0       1       0       0   \n",
       "997      0.997918             0    0      1       0       0       0       1   \n",
       "998      1.001179             0    1      0       0       0       0       1   \n",
       "999      1.001419             0    0      1       0       0       0       1   \n",
       "\n",
       "     Bond_0  Bond_1  Bond_2  PnL  next_mid_price  \n",
       "0         0       0       1    1      108.177416  \n",
       "1         1       0       0   -1       84.782625  \n",
       "2         1       0       0   -1       84.732629  \n",
       "3         0       0       1   -1      108.799625  \n",
       "4         1       0       0    1       84.592811  \n",
       "..      ...     ...     ...  ...             ...  \n",
       "995       1       0       0   -1       83.051143  \n",
       "996       0       0       1    1      110.510200  \n",
       "997       0       0       1    1      110.504461  \n",
       "998       0       0       1    1      110.247725  \n",
       "999       0       1       0   -1      126.886187  \n",
       "\n",
       "[1000 rows x 20 columns]"
      ]
     },
     "execution_count": 244,
     "metadata": {},
     "output_type": "execute_result"
    }
   ],
   "source": [
    "test"
   ]
  },
  {
   "cell_type": "code",
   "execution_count": 243,
   "id": "8307d556-5de3-4892-9c9e-9e31050d94a6",
   "metadata": {},
   "outputs": [
    {
     "ename": "KeyError",
     "evalue": "\"['QuotedPrice', 'NextMidPrice'] not in index\"",
     "output_type": "error",
     "traceback": [
      "\u001b[0;31m---------------------------------------------------------------------------\u001b[0m",
      "\u001b[0;31mKeyError\u001b[0m                                  Traceback (most recent call last)",
      "Cell \u001b[0;32mIn [243], line 1\u001b[0m\n\u001b[0;32m----> 1\u001b[0m \u001b[43mpnl\u001b[49m\u001b[43m(\u001b[49m\u001b[43msuggested_delta\u001b[49m\u001b[43m,\u001b[49m\u001b[43mtest\u001b[49m\u001b[43m)\u001b[49m\n",
      "File \u001b[0;32m~/Desktop/Cornell/FX Rates Crypto/RFQ-project/functions.py:24\u001b[0m, in \u001b[0;36mpnl\u001b[0;34m(quote, test)\u001b[0m\n\u001b[1;32m     22\u001b[0m test_perf \u001b[38;5;241m=\u001b[39m pd\u001b[38;5;241m.\u001b[39mDataFrame()\n\u001b[1;32m     23\u001b[0m test_perf[\u001b[38;5;124m'\u001b[39m\u001b[38;5;124mMy_Price\u001b[39m\u001b[38;5;124m'\u001b[39m]\u001b[38;5;241m=\u001b[39mquote\n\u001b[0;32m---> 24\u001b[0m test_perf[[\u001b[38;5;124m'\u001b[39m\u001b[38;5;124mSide\u001b[39m\u001b[38;5;124m'\u001b[39m,\u001b[38;5;124m'\u001b[39m\u001b[38;5;124mQuotedPrice\u001b[39m\u001b[38;5;124m'\u001b[39m,\u001b[38;5;124m'\u001b[39m\u001b[38;5;124mNextMidPrice\u001b[39m\u001b[38;5;124m'\u001b[39m]]\u001b[38;5;241m=\u001b[39m\u001b[43mtest\u001b[49m\u001b[43m[\u001b[49m\u001b[43m[\u001b[49m\u001b[38;5;124;43m'\u001b[39;49m\u001b[38;5;124;43mSide\u001b[39;49m\u001b[38;5;124;43m'\u001b[39;49m\u001b[43m,\u001b[49m\u001b[38;5;124;43m'\u001b[39;49m\u001b[38;5;124;43mQuotedPrice\u001b[39;49m\u001b[38;5;124;43m'\u001b[39;49m\u001b[43m,\u001b[49m\u001b[38;5;124;43m'\u001b[39;49m\u001b[38;5;124;43mNextMidPrice\u001b[39;49m\u001b[38;5;124;43m'\u001b[39;49m\u001b[43m]\u001b[49m\u001b[43m]\u001b[49m\n\u001b[1;32m     26\u001b[0m pos_pnl \u001b[38;5;241m=\u001b[39m \u001b[38;5;28mlen\u001b[39m(test_perf[(test_perf[\u001b[38;5;124m'\u001b[39m\u001b[38;5;124mSide\u001b[39m\u001b[38;5;124m'\u001b[39m] \u001b[38;5;241m==\u001b[39m \u001b[38;5;241m1\u001b[39m)\u001b[38;5;241m&\u001b[39m(test_perf[\u001b[38;5;124m'\u001b[39m\u001b[38;5;124mNextMidPrice\u001b[39m\u001b[38;5;124m'\u001b[39m]\u001b[38;5;241m>\u001b[39mtest_perf[\u001b[38;5;124m'\u001b[39m\u001b[38;5;124mMy_Price\u001b[39m\u001b[38;5;124m'\u001b[39m])]) \u001b[38;5;241m+\u001b[39m \u001b[38;5;28mlen\u001b[39m(test_perf[(test_perf[\u001b[38;5;124m'\u001b[39m\u001b[38;5;124mSide\u001b[39m\u001b[38;5;124m'\u001b[39m] \u001b[38;5;241m==\u001b[39m \u001b[38;5;241m-\u001b[39m\u001b[38;5;241m1\u001b[39m)\u001b[38;5;241m&\u001b[39m(test_perf[\u001b[38;5;124m'\u001b[39m\u001b[38;5;124mNextMidPrice\u001b[39m\u001b[38;5;124m'\u001b[39m]\u001b[38;5;241m<\u001b[39mtest_perf[\u001b[38;5;124m'\u001b[39m\u001b[38;5;124mMy_Price\u001b[39m\u001b[38;5;124m'\u001b[39m])])\n\u001b[1;32m     28\u001b[0m better_price \u001b[38;5;241m=\u001b[39m \u001b[38;5;28mlen\u001b[39m(test_perf[(test_perf[\u001b[38;5;124m'\u001b[39m\u001b[38;5;124mSide\u001b[39m\u001b[38;5;124m'\u001b[39m] \u001b[38;5;241m==\u001b[39m \u001b[38;5;241m1\u001b[39m)\u001b[38;5;241m&\u001b[39m(test_perf[\u001b[38;5;124m'\u001b[39m\u001b[38;5;124mQuotedPrice\u001b[39m\u001b[38;5;124m'\u001b[39m]\u001b[38;5;241m<\u001b[39mtest_perf[\u001b[38;5;124m'\u001b[39m\u001b[38;5;124mMy_Price\u001b[39m\u001b[38;5;124m'\u001b[39m])]) \u001b[38;5;241m+\u001b[39m \u001b[38;5;28mlen\u001b[39m(test_perf[(test_perf[\u001b[38;5;124m'\u001b[39m\u001b[38;5;124mSide\u001b[39m\u001b[38;5;124m'\u001b[39m] \u001b[38;5;241m==\u001b[39m \u001b[38;5;241m-\u001b[39m\u001b[38;5;241m1\u001b[39m)\u001b[38;5;241m&\u001b[39m(test_perf[\u001b[38;5;124m'\u001b[39m\u001b[38;5;124mQuotedPrice\u001b[39m\u001b[38;5;124m'\u001b[39m]\u001b[38;5;241m>\u001b[39mtest_perf[\u001b[38;5;124m'\u001b[39m\u001b[38;5;124mMy_Price\u001b[39m\u001b[38;5;124m'\u001b[39m])])\n",
      "File \u001b[0;32m/Library/Frameworks/Python.framework/Versions/3.10/lib/python3.10/site-packages/pandas/core/frame.py:3511\u001b[0m, in \u001b[0;36mDataFrame.__getitem__\u001b[0;34m(self, key)\u001b[0m\n\u001b[1;32m   3509\u001b[0m     \u001b[38;5;28;01mif\u001b[39;00m is_iterator(key):\n\u001b[1;32m   3510\u001b[0m         key \u001b[38;5;241m=\u001b[39m \u001b[38;5;28mlist\u001b[39m(key)\n\u001b[0;32m-> 3511\u001b[0m     indexer \u001b[38;5;241m=\u001b[39m \u001b[38;5;28;43mself\u001b[39;49m\u001b[38;5;241;43m.\u001b[39;49m\u001b[43mcolumns\u001b[49m\u001b[38;5;241;43m.\u001b[39;49m\u001b[43m_get_indexer_strict\u001b[49m\u001b[43m(\u001b[49m\u001b[43mkey\u001b[49m\u001b[43m,\u001b[49m\u001b[43m \u001b[49m\u001b[38;5;124;43m\"\u001b[39;49m\u001b[38;5;124;43mcolumns\u001b[39;49m\u001b[38;5;124;43m\"\u001b[39;49m\u001b[43m)\u001b[49m[\u001b[38;5;241m1\u001b[39m]\n\u001b[1;32m   3513\u001b[0m \u001b[38;5;66;03m# take() does not accept boolean indexers\u001b[39;00m\n\u001b[1;32m   3514\u001b[0m \u001b[38;5;28;01mif\u001b[39;00m \u001b[38;5;28mgetattr\u001b[39m(indexer, \u001b[38;5;124m\"\u001b[39m\u001b[38;5;124mdtype\u001b[39m\u001b[38;5;124m\"\u001b[39m, \u001b[38;5;28;01mNone\u001b[39;00m) \u001b[38;5;241m==\u001b[39m \u001b[38;5;28mbool\u001b[39m:\n",
      "File \u001b[0;32m/Library/Frameworks/Python.framework/Versions/3.10/lib/python3.10/site-packages/pandas/core/indexes/base.py:5796\u001b[0m, in \u001b[0;36mIndex._get_indexer_strict\u001b[0;34m(self, key, axis_name)\u001b[0m\n\u001b[1;32m   5793\u001b[0m \u001b[38;5;28;01melse\u001b[39;00m:\n\u001b[1;32m   5794\u001b[0m     keyarr, indexer, new_indexer \u001b[38;5;241m=\u001b[39m \u001b[38;5;28mself\u001b[39m\u001b[38;5;241m.\u001b[39m_reindex_non_unique(keyarr)\n\u001b[0;32m-> 5796\u001b[0m \u001b[38;5;28;43mself\u001b[39;49m\u001b[38;5;241;43m.\u001b[39;49m\u001b[43m_raise_if_missing\u001b[49m\u001b[43m(\u001b[49m\u001b[43mkeyarr\u001b[49m\u001b[43m,\u001b[49m\u001b[43m \u001b[49m\u001b[43mindexer\u001b[49m\u001b[43m,\u001b[49m\u001b[43m \u001b[49m\u001b[43maxis_name\u001b[49m\u001b[43m)\u001b[49m\n\u001b[1;32m   5798\u001b[0m keyarr \u001b[38;5;241m=\u001b[39m \u001b[38;5;28mself\u001b[39m\u001b[38;5;241m.\u001b[39mtake(indexer)\n\u001b[1;32m   5799\u001b[0m \u001b[38;5;28;01mif\u001b[39;00m \u001b[38;5;28misinstance\u001b[39m(key, Index):\n\u001b[1;32m   5800\u001b[0m     \u001b[38;5;66;03m# GH 42790 - Preserve name from an Index\u001b[39;00m\n",
      "File \u001b[0;32m/Library/Frameworks/Python.framework/Versions/3.10/lib/python3.10/site-packages/pandas/core/indexes/base.py:5859\u001b[0m, in \u001b[0;36mIndex._raise_if_missing\u001b[0;34m(self, key, indexer, axis_name)\u001b[0m\n\u001b[1;32m   5856\u001b[0m     \u001b[38;5;28;01mraise\u001b[39;00m \u001b[38;5;167;01mKeyError\u001b[39;00m(\u001b[38;5;124mf\u001b[39m\u001b[38;5;124m\"\u001b[39m\u001b[38;5;124mNone of [\u001b[39m\u001b[38;5;132;01m{\u001b[39;00mkey\u001b[38;5;132;01m}\u001b[39;00m\u001b[38;5;124m] are in the [\u001b[39m\u001b[38;5;132;01m{\u001b[39;00maxis_name\u001b[38;5;132;01m}\u001b[39;00m\u001b[38;5;124m]\u001b[39m\u001b[38;5;124m\"\u001b[39m)\n\u001b[1;32m   5858\u001b[0m not_found \u001b[38;5;241m=\u001b[39m \u001b[38;5;28mlist\u001b[39m(ensure_index(key)[missing_mask\u001b[38;5;241m.\u001b[39mnonzero()[\u001b[38;5;241m0\u001b[39m]]\u001b[38;5;241m.\u001b[39munique())\n\u001b[0;32m-> 5859\u001b[0m \u001b[38;5;28;01mraise\u001b[39;00m \u001b[38;5;167;01mKeyError\u001b[39;00m(\u001b[38;5;124mf\u001b[39m\u001b[38;5;124m\"\u001b[39m\u001b[38;5;132;01m{\u001b[39;00mnot_found\u001b[38;5;132;01m}\u001b[39;00m\u001b[38;5;124m not in index\u001b[39m\u001b[38;5;124m\"\u001b[39m)\n",
      "\u001b[0;31mKeyError\u001b[0m: \"['QuotedPrice', 'NextMidPrice'] not in index\""
     ]
    }
   ],
   "source": [
    "pnl(suggested_delta,test)"
   ]
  },
  {
   "cell_type": "code",
   "execution_count": null,
   "id": "dc28d19c-8352-4c16-918c-560727a4f204",
   "metadata": {},
   "outputs": [],
   "source": []
  }
 ],
 "metadata": {
  "kernelspec": {
   "display_name": "Python 3 (ipykernel)",
   "language": "python",
   "name": "python3"
  },
  "language_info": {
   "codemirror_mode": {
    "name": "ipython",
    "version": 3
   },
   "file_extension": ".py",
   "mimetype": "text/x-python",
   "name": "python",
   "nbconvert_exporter": "python",
   "pygments_lexer": "ipython3",
   "version": "3.10.7"
  }
 },
 "nbformat": 4,
 "nbformat_minor": 5
}
